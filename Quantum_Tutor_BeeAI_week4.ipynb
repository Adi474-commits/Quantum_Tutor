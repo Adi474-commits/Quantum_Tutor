{
  "nbformat": 4,
  "nbformat_minor": 0,
  "metadata": {
    "colab": {
      "provenance": []
    },
    "kernelspec": {
      "name": "python3",
      "display_name": "Python 3"
    },
    "language_info": {
      "name": "python"
    }
  },
  "cells": [
    {
      "cell_type": "code",
      "execution_count": 1,
      "metadata": {
        "colab": {
          "base_uri": "https://localhost:8080/"
        },
        "id": "3WUnGfGqvuFs",
        "outputId": "6c7055d3-2aa4-4e18-cb7f-72e95c788474"
      },
      "outputs": [
        {
          "output_type": "stream",
          "name": "stdout",
          "text": [
            "Cloning into 'beeai-framework'...\n",
            "remote: Enumerating objects: 13855, done.\u001b[K\n",
            "remote: Counting objects: 100% (1852/1852), done.\u001b[K\n",
            "remote: Compressing objects: 100% (1092/1092), done.\u001b[K\n",
            "remote: Total 13855 (delta 1229), reused 796 (delta 755), pack-reused 12003 (from 3)\u001b[K\n",
            "Receiving objects: 100% (13855/13855), 7.72 MiB | 8.70 MiB/s, done.\n",
            "Resolving deltas: 100% (8632/8632), done.\n",
            "/content/beeai-framework\n"
          ]
        }
      ],
      "source": [
        "# Cell 1: Clone repositories and setup\n",
        "!git clone https://github.com/i-am-bee/beeai-framework.git\n",
        "%cd beeai-framework"
      ]
    },
    {
      "cell_type": "code",
      "source": [
        "# Cell 2: Install dependencies (updated for Groq)\n",
        "!pip install beeai qiskit python-dotenv groq requests xml\n"
      ],
      "metadata": {
        "colab": {
          "base_uri": "https://localhost:8080/"
        },
        "id": "ONnz69sowMSn",
        "outputId": "263efcb3-76f0-462e-834e-69480e838fe7"
      },
      "execution_count": 2,
      "outputs": [
        {
          "output_type": "stream",
          "name": "stdout",
          "text": [
            "Collecting beeai\n",
            "  Downloading beeai-1.0.1-py3-none-any.whl.metadata (627 bytes)\n",
            "Collecting qiskit\n",
            "  Downloading qiskit-2.0.3-cp39-abi3-manylinux_2_17_x86_64.manylinux2014_x86_64.whl.metadata (12 kB)\n",
            "Collecting python-dotenv\n",
            "  Downloading python_dotenv-1.1.0-py3-none-any.whl.metadata (24 kB)\n",
            "Collecting groq\n",
            "  Downloading groq-0.28.0-py3-none-any.whl.metadata (15 kB)\n",
            "Requirement already satisfied: requests in /usr/local/lib/python3.11/dist-packages (2.32.3)\n",
            "\u001b[31mERROR: Could not find a version that satisfies the requirement xml (from versions: none)\u001b[0m\u001b[31m\n",
            "\u001b[0m\u001b[31mERROR: No matching distribution found for xml\u001b[0m\u001b[31m\n",
            "\u001b[0m"
          ]
        }
      ]
    },
    {
      "cell_type": "code",
      "source": [
        "!pip install -q python-dotenv\n"
      ],
      "metadata": {
        "id": "4epKJS9jwmaV"
      },
      "execution_count": 3,
      "outputs": []
    },
    {
      "cell_type": "code",
      "source": [
        "# Cell 3: Environment setup with Groq API\n",
        "import os\n",
        "from dotenv import load_dotenv"
      ],
      "metadata": {
        "id": "g3gdpDLCwTP8"
      },
      "execution_count": 4,
      "outputs": []
    },
    {
      "cell_type": "code",
      "source": [
        "# Set environment variables\n",
        "os.environ[\"IBM_QUANTUM_API_TOKEN\"] = \"055baaee60c6de48e5f32103bcc6da835d5235529d7c964b8825a30f3c64461ab09a1ca32e642a7acbb01c7cdbea288f4435daac3676841308953097de48bdf7\"\n",
        "os.environ[\"ARXIV_API_BASE\"] = \"http://export.arxiv.org/api/query\"\n",
        "os.environ[\"GROQ_API_KEY\"] = \"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\"\n"
      ],
      "metadata": {
        "id": "AeJn15OLwp-l"
      },
      "execution_count": 5,
      "outputs": []
    },
    {
      "cell_type": "code",
      "source": [
        "# Write to .env file\n",
        "with open(\".env\", \"w\") as f:\n",
        "    f.write(f\"IBM_QUANTUM_API_TOKEN={os.environ['IBM_QUANTUM_API_TOKEN']}\\n\")\n",
        "    f.write(f\"ARXIV_API_BASE={os.environ['ARXIV_API_BASE']}\\n\")\n",
        "    f.write(f\"GROQ_API_KEY={os.environ['GROQ_API_KEY']}\\n\")\n",
        "\n",
        "load_dotenv()\n",
        "\n",
        "print(\"✅ Loaded tokens:\")\n",
        "print(\"IBM:\", os.getenv(\"IBM_QUANTUM_API_TOKEN\")[:10], \"...\")\n",
        "print(\"arXiv API Base:\", os.getenv(\"ARXIV_API_BASE\"))\n",
        "print(\"Groq API Key:\", os.getenv(\"GROQ_API_KEY\")[:10], \"...\")\n"
      ],
      "metadata": {
        "colab": {
          "base_uri": "https://localhost:8080/"
        },
        "id": "SyDfiHH0wuhk",
        "outputId": "74434234-189e-44d5-95a4-b98dea9fcf71"
      },
      "execution_count": 6,
      "outputs": [
        {
          "output_type": "stream",
          "name": "stdout",
          "text": [
            "✅ Loaded tokens:\n",
            "IBM: 055baaee60 ...\n",
            "arXiv API Base: http://export.arxiv.org/api/query\n",
            "Groq API Key: gsk_pMFqqs ...\n"
          ]
        }
      ]
    },
    {
      "cell_type": "code",
      "source": [
        "!pip install -q qiskit-ibm-runtime\n"
      ],
      "metadata": {
        "colab": {
          "base_uri": "https://localhost:8080/"
        },
        "id": "EQlVqCwExAtv",
        "outputId": "07de8dc4-12b2-42ee-bb25-fc82cd1cc9cb"
      },
      "execution_count": 7,
      "outputs": [
        {
          "output_type": "stream",
          "name": "stdout",
          "text": [
            "\u001b[?25l   \u001b[90m━━━━━━━━━━━━━━━━━━━━━━━━━━━━━━━━━━━━━━━━\u001b[0m \u001b[32m0.0/3.2 MB\u001b[0m \u001b[31m?\u001b[0m eta \u001b[36m-:--:--\u001b[0m\r\u001b[2K   \u001b[91m━━━\u001b[0m\u001b[90m╺\u001b[0m\u001b[90m━━━━━━━━━━━━━━━━━━━━━━━━━━━━━━━━━━━━\u001b[0m \u001b[32m0.3/3.2 MB\u001b[0m \u001b[31m7.8 MB/s\u001b[0m eta \u001b[36m0:00:01\u001b[0m\r\u001b[2K   \u001b[91m━━━━━━━━━━━━━━━━━━\u001b[0m\u001b[91m╸\u001b[0m\u001b[90m━━━━━━━━━━━━━━━━━━━━━\u001b[0m \u001b[32m1.5/3.2 MB\u001b[0m \u001b[31m22.1 MB/s\u001b[0m eta \u001b[36m0:00:01\u001b[0m\r\u001b[2K   \u001b[91m━━━━━━━━━━━━━━━━━━━━━━━━━━━━━━━━━━━━━━━\u001b[0m\u001b[91m╸\u001b[0m \u001b[32m3.2/3.2 MB\u001b[0m \u001b[31m36.1 MB/s\u001b[0m eta \u001b[36m0:00:01\u001b[0m\r\u001b[2K   \u001b[90m━━━━━━━━━━━━━━━━━━━━━━━━━━━━━━━━━━━━━━━━\u001b[0m \u001b[32m3.2/3.2 MB\u001b[0m \u001b[31m29.7 MB/s\u001b[0m eta \u001b[36m0:00:00\u001b[0m\n",
            "\u001b[2K   \u001b[90m━━━━━━━━━━━━━━━━━━━━━━━━━━━━━━━━━━━━━━━━\u001b[0m \u001b[32m363.9/363.9 kB\u001b[0m \u001b[31m32.8 MB/s\u001b[0m eta \u001b[36m0:00:00\u001b[0m\n",
            "\u001b[2K   \u001b[90m━━━━━━━━━━━━━━━━━━━━━━━━━━━━━━━━━━━━━━━━\u001b[0m \u001b[32m6.5/6.5 MB\u001b[0m \u001b[31m100.1 MB/s\u001b[0m eta \u001b[36m0:00:00\u001b[0m\n",
            "\u001b[2K   \u001b[90m━━━━━━━━━━━━━━━━━━━━━━━━━━━━━━━━━━━━━━━━\u001b[0m \u001b[32m75.8/75.8 kB\u001b[0m \u001b[31m6.0 MB/s\u001b[0m eta \u001b[36m0:00:00\u001b[0m\n",
            "\u001b[2K   \u001b[90m━━━━━━━━━━━━━━━━━━━━━━━━━━━━━━━━━━━━━━━━\u001b[0m \u001b[32m64.8/64.8 kB\u001b[0m \u001b[31m5.5 MB/s\u001b[0m eta \u001b[36m0:00:00\u001b[0m\n",
            "\u001b[2K   \u001b[90m━━━━━━━━━━━━━━━━━━━━━━━━━━━━━━━━━━━━━━━━\u001b[0m \u001b[32m130.5/130.5 kB\u001b[0m \u001b[31m12.5 MB/s\u001b[0m eta \u001b[36m0:00:00\u001b[0m\n",
            "\u001b[2K   \u001b[90m━━━━━━━━━━━━━━━━━━━━━━━━━━━━━━━━━━━━━━━━\u001b[0m \u001b[32m2.1/2.1 MB\u001b[0m \u001b[31m81.9 MB/s\u001b[0m eta \u001b[36m0:00:00\u001b[0m\n",
            "\u001b[2K   \u001b[90m━━━━━━━━━━━━━━━━━━━━━━━━━━━━━━━━━━━━━━━━\u001b[0m \u001b[32m49.5/49.5 kB\u001b[0m \u001b[31m4.2 MB/s\u001b[0m eta \u001b[36m0:00:00\u001b[0m\n",
            "\u001b[2K   \u001b[90m━━━━━━━━━━━━━━━━━━━━━━━━━━━━━━━━━━━━━━━━\u001b[0m \u001b[32m49.7/49.7 MB\u001b[0m \u001b[31m16.6 MB/s\u001b[0m eta \u001b[36m0:00:00\u001b[0m\n",
            "\u001b[2K   \u001b[90m━━━━━━━━━━━━━━━━━━━━━━━━━━━━━━━━━━━━━━━━\u001b[0m \u001b[32m109.0/109.0 kB\u001b[0m \u001b[31m9.6 MB/s\u001b[0m eta \u001b[36m0:00:00\u001b[0m\n",
            "\u001b[?25h\u001b[31mERROR: pip's dependency resolver does not currently take into account all the packages that are installed. This behaviour is the source of the following dependency conflicts.\n",
            "google-colab 1.0.0 requires requests==2.32.3, but you have requests 2.32.4 which is incompatible.\u001b[0m\u001b[31m\n",
            "\u001b[0m"
          ]
        }
      ]
    },
    {
      "cell_type": "code",
      "source": [
        "# Cell 4: Test IBM Quantum and arXiv connections\n",
        "import os\n",
        "from dotenv import load_dotenv\n",
        "from qiskit_ibm_runtime import QiskitRuntimeService\n",
        "import requests\n",
        "import xml.etree.ElementTree as ET\n",
        "\n",
        "load_dotenv()"
      ],
      "metadata": {
        "colab": {
          "base_uri": "https://localhost:8080/"
        },
        "id": "dEwL4Gg_w0i1",
        "outputId": "08a89027-5246-4d1c-ad6d-9658af530ecc"
      },
      "execution_count": 8,
      "outputs": [
        {
          "output_type": "execute_result",
          "data": {
            "text/plain": [
              "True"
            ]
          },
          "metadata": {},
          "execution_count": 8
        }
      ]
    },
    {
      "cell_type": "code",
      "source": [
        "# === IBM QUANTUM BACKENDS ===\n",
        "api_token = os.getenv(\"IBM_QUANTUM_API_TOKEN\")\n",
        "\n",
        "try:\n",
        "    service = QiskitRuntimeService(channel=\"ibm_quantum\", token=api_token)\n",
        "    print(\"🔹 Available IBM Quantum backends:\")\n",
        "    for backend in service.backends():\n",
        "        print(\"-\", backend.name)\n",
        "except Exception as e:\n",
        "    print(f\"❌ Error loading IBM Quantum service: {e}\")\n",
        "\n",
        "# === arXiv QUERY (Quantum papers) ===\n",
        "arxiv_base = os.getenv(\"ARXIV_API_BASE\")\n",
        "search_query = \"quantum+computing\"\n",
        "max_results = 3\n",
        "\n",
        "arxiv_url = f\"{arxiv_base}?search_query=all:{search_query}&start=0&max_results={max_results}\"\n",
        "\n",
        "try:\n",
        "    response = requests.get(arxiv_url)\n",
        "    root = ET.fromstring(response.content)\n",
        "\n",
        "    print(\"\\n🔹 Recent arXiv results (quantum computing):\")\n",
        "    for entry in root.findall('{http://www.w3.org/2005/Atom}entry'):\n",
        "        title = entry.find('{http://www.w3.org/2005/Atom}title').text.strip()\n",
        "        link = entry.find('{http://www.w3.org/2005/Atom}id').text.strip()\n",
        "        print(f\"- {title}\\n  ↪ {link}\")\n",
        "except Exception as e:\n",
        "    print(f\"❌ Error querying arXiv: {e}\")"
      ],
      "metadata": {
        "colab": {
          "base_uri": "https://localhost:8080/"
        },
        "id": "1gX9ZLfQxHPc",
        "outputId": "a9c8ef4f-9558-459f-b381-afdda0948dd0"
      },
      "execution_count": 9,
      "outputs": [
        {
          "output_type": "stream",
          "name": "stderr",
          "text": [
            "<ipython-input-9-4180752962>:5: DeprecationWarning: The \"ibm_quantum\" channel option is deprecated and will be sunset on 1 July. After this date, \"ibm_cloud\", \"ibm_quantum_platform\", and \"local\" will be the only valid channels. Open Plan users should migrate now.  All other users should review the migration guide (https://quantum.cloud.ibm.com/docs/migration-guides/classic-iqp-to-cloud-iqp)to learn when to migrate.\n",
            "  service = QiskitRuntimeService(channel=\"ibm_quantum\", token=api_token)\n"
          ]
        },
        {
          "output_type": "stream",
          "name": "stdout",
          "text": [
            "❌ Error loading IBM Quantum service: '401 Client Error: Unauthorized for url: https://auth.quantum.ibm.com/api/users/loginWithToken. License required. You need to accept the License., Error code: 3444.'\n",
            "\n",
            "🔹 Recent arXiv results (quantum computing):\n",
            "- The Rise of Quantum Internet Computing\n",
            "  ↪ http://arxiv.org/abs/2208.00733v1\n",
            "- Unconventional Quantum Computing Devices\n",
            "  ↪ http://arxiv.org/abs/quant-ph/0003151v1\n",
            "- Geometrical perspective on quantum states and quantum computation\n",
            "  ↪ http://arxiv.org/abs/1311.4939v1\n"
          ]
        }
      ]
    },
    {
      "cell_type": "code",
      "source": [
        "# Cell 5: Mount Google Drive\n",
        "from google.colab import drive\n",
        "drive.mount('/content/drive')"
      ],
      "metadata": {
        "colab": {
          "base_uri": "https://localhost:8080/"
        },
        "id": "_3-zn0dHyT1e",
        "outputId": "db6fb1ea-5d95-44b5-859a-b37812ce0bbe"
      },
      "execution_count": 11,
      "outputs": [
        {
          "output_type": "stream",
          "name": "stdout",
          "text": [
            "Mounted at /content/drive\n"
          ]
        }
      ]
    },
    {
      "cell_type": "code",
      "source": [
        "# Cell 6: Clone additional repos and setup project structure\n",
        "!git clone https://github.com/i-am-bee/beeai-platform-agent-starter.git\n",
        "!git clone https://github.com/i-am-bee/beeai-framework-py-starter.git\n",
        "\n",
        "# Create project folder in Drive\n",
        "!mkdir -p /content/drive/MyDrive/quantum_tutor_project\n",
        "\n",
        "# Move repos into it\n",
        "!mv beeai-platform-agent-starter /content/drive/MyDrive/quantum_tutor_project/\n",
        "!mv beeai-framework-py-starter /content/drive/MyDrive/quantum_tutor_project/"
      ],
      "metadata": {
        "colab": {
          "base_uri": "https://localhost:8080/"
        },
        "id": "_lszKz0myipl",
        "outputId": "d0d8fd55-5256-4c51-e09f-45d259eaee96"
      },
      "execution_count": 12,
      "outputs": [
        {
          "output_type": "stream",
          "name": "stdout",
          "text": [
            "Cloning into 'beeai-platform-agent-starter'...\n",
            "remote: Enumerating objects: 124, done.\u001b[K\n",
            "remote: Counting objects: 100% (64/64), done.\u001b[K\n",
            "remote: Compressing objects: 100% (48/48), done.\u001b[K\n",
            "remote: Total 124 (delta 34), reused 20 (delta 14), pack-reused 60 (from 1)\u001b[K\n",
            "Receiving objects: 100% (124/124), 106.33 KiB | 1.17 MiB/s, done.\n",
            "Resolving deltas: 100% (60/60), done.\n",
            "Cloning into 'beeai-framework-py-starter'...\n",
            "remote: Enumerating objects: 146, done.\u001b[K\n",
            "remote: Counting objects: 100% (20/20), done.\u001b[K\n",
            "remote: Compressing objects: 100% (9/9), done.\u001b[K\n",
            "remote: Total 146 (delta 12), reused 12 (delta 11), pack-reused 126 (from 1)\u001b[K\n",
            "Receiving objects: 100% (146/146), 413.85 KiB | 1.57 MiB/s, done.\n",
            "Resolving deltas: 100% (79/79), done.\n",
            "mv: inter-device move failed: 'beeai-platform-agent-starter' to '/content/drive/MyDrive/quantum_tutor_project/beeai-platform-agent-starter'; unable to remove target: Directory not empty\n",
            "mv: inter-device move failed: 'beeai-framework-py-starter' to '/content/drive/MyDrive/quantum_tutor_project/beeai-framework-py-starter'; unable to remove target: Directory not empty\n"
          ]
        }
      ]
    },
    {
      "cell_type": "code",
      "source": [
        "# Cell 7: Create agent structure\n",
        "# Paths\n",
        "agent_dir = \"/content/drive/MyDrive/quantum_tutor_project/beeai-platform-agent-starter/agents/quantum_tutor_agent\"\n",
        "\n",
        "# Create the agent folder\n",
        "!mkdir -p $agent_dir\n",
        "\n",
        "# Create config.yaml\n",
        "with open(f\"{agent_dir}/config.yaml\", \"w\") as f:\n",
        "    f.write(\"\"\"\n",
        "id: quantum_tutor_agent\n",
        "class_name: QuantumTutorAgent\n",
        "module: agents.quantum_tutor_agent\n",
        "description: Agent that helps users learn Quantum Computing using IBM Qiskit and Groq LLM.\n",
        "\"\"\")"
      ],
      "metadata": {
        "id": "PE4bdBA9yp0E"
      },
      "execution_count": 13,
      "outputs": []
    },
    {
      "cell_type": "code",
      "source": [
        "# Cell 8: Install framework\n",
        "%cd /content/drive/MyDrive/quantum_tutor_project/beeai-framework-py-starter\n",
        "!pip install -e ."
      ],
      "metadata": {
        "colab": {
          "base_uri": "https://localhost:8080/"
        },
        "id": "zWVGYr0hywn3",
        "outputId": "f7ad9b30-2899-4f6b-b6be-736d7c79124f"
      },
      "execution_count": 14,
      "outputs": [
        {
          "output_type": "stream",
          "name": "stdout",
          "text": [
            "/content/drive/MyDrive/quantum_tutor_project/beeai-framework-py-starter\n",
            "Obtaining file:///content/drive/MyDrive/quantum_tutor_project/beeai-framework-py-starter\n",
            "  Installing build dependencies ... \u001b[?25l\u001b[?25hdone\n",
            "  Checking if build backend supports build_editable ... \u001b[?25l\u001b[?25hdone\n",
            "  Getting requirements to build editable ... \u001b[?25l\u001b[?25hdone\n",
            "  Preparing editable metadata (pyproject.toml) ... \u001b[?25l\u001b[?25hdone\n",
            "Collecting beeai-framework==0.1.21 (from beeai-framework[acp,beeai-platform,duckduckgo,mcp,wikipedia]==0.1.21->beeai-framework-starter==0.0.1)\n",
            "  Downloading beeai_framework-0.1.21-py3-none-any.whl.metadata (12 kB)\n",
            "Collecting openinference-instrumentation-beeai<0.2.0,>=0.1.6 (from beeai-framework-starter==0.0.1)\n",
            "  Downloading openinference_instrumentation_beeai-0.1.6-py3-none-any.whl.metadata (5.4 kB)\n",
            "Collecting opentelemetry-exporter-otlp<2.0.0,>=1.32.1 (from beeai-framework-starter==0.0.1)\n",
            "  Downloading opentelemetry_exporter_otlp-1.34.1-py3-none-any.whl.metadata (2.4 kB)\n",
            "Collecting opentelemetry-sdk<2.0.0,>=1.32.1 (from beeai-framework-starter==0.0.1)\n",
            "  Downloading opentelemetry_sdk-1.34.1-py3-none-any.whl.metadata (1.6 kB)\n",
            "Requirement already satisfied: pydantic<3.0,>=2.10 in /usr/local/lib/python3.11/dist-packages (from beeai-framework-starter==0.0.1) (2.11.5)\n",
            "Collecting termcolor<3.0,>=2.5 (from beeai-framework-starter==0.0.1)\n",
            "  Downloading termcolor-2.5.0-py3-none-any.whl.metadata (6.1 kB)\n",
            "Requirement already satisfied: aiofiles<25.0.0,>=24.1.0 in /usr/local/lib/python3.11/dist-packages (from beeai-framework==0.1.21->beeai-framework[acp,beeai-platform,duckduckgo,mcp,wikipedia]==0.1.21->beeai-framework-starter==0.0.1) (24.1.0)\n",
            "Requirement already satisfied: cachetools<6.0.0,>=5.5.2 in /usr/local/lib/python3.11/dist-packages (from beeai-framework==0.1.21->beeai-framework[acp,beeai-platform,duckduckgo,mcp,wikipedia]==0.1.21->beeai-framework-starter==0.0.1) (5.5.2)\n",
            "Collecting chevron<0.15.0,>=0.14.0 (from beeai-framework==0.1.21->beeai-framework[acp,beeai-platform,duckduckgo,mcp,wikipedia]==0.1.21->beeai-framework-starter==0.0.1)\n",
            "  Downloading chevron-0.14.0-py3-none-any.whl.metadata (4.9 kB)\n",
            "Collecting json-repair<0.40.0,>=0.39.0 (from beeai-framework==0.1.21->beeai-framework[acp,beeai-platform,duckduckgo,mcp,wikipedia]==0.1.21->beeai-framework-starter==0.0.1)\n",
            "  Downloading json_repair-0.39.1-py3-none-any.whl.metadata (11 kB)\n",
            "Collecting jsonref<2.0.0,>=1.1.0 (from beeai-framework==0.1.21->beeai-framework[acp,beeai-platform,duckduckgo,mcp,wikipedia]==0.1.21->beeai-framework-starter==0.0.1)\n",
            "  Downloading jsonref-1.1.0-py3-none-any.whl.metadata (2.7 kB)\n",
            "Collecting litellm<2.0.0,>=1.60.0 (from beeai-framework==0.1.21->beeai-framework[acp,beeai-platform,duckduckgo,mcp,wikipedia]==0.1.21->beeai-framework-starter==0.0.1)\n",
            "  Downloading litellm-1.72.6.post1-py3-none-any.whl.metadata (39 kB)\n",
            "Collecting pydantic-settings<3.0.0,>=2.9.0 (from beeai-framework==0.1.21->beeai-framework[acp,beeai-platform,duckduckgo,mcp,wikipedia]==0.1.21->beeai-framework-starter==0.0.1)\n",
            "  Downloading pydantic_settings-2.9.1-py3-none-any.whl.metadata (3.8 kB)\n",
            "Requirement already satisfied: requests<3.0,>=2.32 in /usr/local/lib/python3.11/dist-packages (from beeai-framework==0.1.21->beeai-framework[acp,beeai-platform,duckduckgo,mcp,wikipedia]==0.1.21->beeai-framework-starter==0.0.1) (2.32.4)\n",
            "Collecting acp-sdk<0.9.0,>=0.8.4 (from beeai-framework[acp,beeai-platform,duckduckgo,mcp,wikipedia]==0.1.21->beeai-framework-starter==0.0.1)\n",
            "  Downloading acp_sdk-0.8.4-py3-none-any.whl.metadata (1.7 kB)\n",
            "Collecting duckduckgo-search<9.0.0,>=8.0.2 (from beeai-framework[acp,beeai-platform,duckduckgo,mcp,wikipedia]==0.1.21->beeai-framework-starter==0.0.1)\n",
            "  Downloading duckduckgo_search-8.0.4-py3-none-any.whl.metadata (16 kB)\n",
            "Collecting mcp<2.0.0,>=1.2.0 (from beeai-framework[acp,beeai-platform,duckduckgo,mcp,wikipedia]==0.1.21->beeai-framework-starter==0.0.1)\n",
            "  Downloading mcp-1.9.4-py3-none-any.whl.metadata (28 kB)\n",
            "Requirement already satisfied: uvicorn<0.35.0,>=0.34.2 in /usr/local/lib/python3.11/dist-packages (from beeai-framework[acp,beeai-platform,duckduckgo,mcp,wikipedia]==0.1.21->beeai-framework-starter==0.0.1) (0.34.3)\n",
            "Collecting wikipedia-api<0.9.0,>=0.8.1 (from beeai-framework[acp,beeai-platform,duckduckgo,mcp,wikipedia]==0.1.21->beeai-framework-starter==0.0.1)\n",
            "  Downloading wikipedia_api-0.8.1.tar.gz (19 kB)\n",
            "  Preparing metadata (setup.py) ... \u001b[?25l\u001b[?25hdone\n",
            "Collecting openinference-instrumentation>=0.1.27 (from openinference-instrumentation-beeai<0.2.0,>=0.1.6->beeai-framework-starter==0.0.1)\n",
            "  Downloading openinference_instrumentation-0.1.34-py3-none-any.whl.metadata (4.9 kB)\n",
            "Collecting openinference-semantic-conventions>=0.1.17 (from openinference-instrumentation-beeai<0.2.0,>=0.1.6->beeai-framework-starter==0.0.1)\n",
            "  Downloading openinference_semantic_conventions-0.1.21-py3-none-any.whl.metadata (1.2 kB)\n",
            "Collecting opentelemetry-api>=1.31.1 (from openinference-instrumentation-beeai<0.2.0,>=0.1.6->beeai-framework-starter==0.0.1)\n",
            "  Downloading opentelemetry_api-1.34.1-py3-none-any.whl.metadata (1.5 kB)\n",
            "Collecting opentelemetry-instrumentation>=0.52b1 (from openinference-instrumentation-beeai<0.2.0,>=0.1.6->beeai-framework-starter==0.0.1)\n",
            "  Downloading opentelemetry_instrumentation-0.55b1-py3-none-any.whl.metadata (6.7 kB)\n",
            "Collecting opentelemetry-semantic-conventions>=0.52b1 (from openinference-instrumentation-beeai<0.2.0,>=0.1.6->beeai-framework-starter==0.0.1)\n",
            "  Downloading opentelemetry_semantic_conventions-0.55b1-py3-none-any.whl.metadata (2.5 kB)\n",
            "Requirement already satisfied: wrapt>=1.17.2 in /usr/local/lib/python3.11/dist-packages (from openinference-instrumentation-beeai<0.2.0,>=0.1.6->beeai-framework-starter==0.0.1) (1.17.2)\n",
            "Collecting opentelemetry-exporter-otlp-proto-grpc==1.34.1 (from opentelemetry-exporter-otlp<2.0.0,>=1.32.1->beeai-framework-starter==0.0.1)\n",
            "  Downloading opentelemetry_exporter_otlp_proto_grpc-1.34.1-py3-none-any.whl.metadata (2.4 kB)\n",
            "Collecting opentelemetry-exporter-otlp-proto-http==1.34.1 (from opentelemetry-exporter-otlp<2.0.0,>=1.32.1->beeai-framework-starter==0.0.1)\n",
            "  Downloading opentelemetry_exporter_otlp_proto_http-1.34.1-py3-none-any.whl.metadata (2.3 kB)\n",
            "Requirement already satisfied: googleapis-common-protos~=1.52 in /usr/local/lib/python3.11/dist-packages (from opentelemetry-exporter-otlp-proto-grpc==1.34.1->opentelemetry-exporter-otlp<2.0.0,>=1.32.1->beeai-framework-starter==0.0.1) (1.70.0)\n",
            "Requirement already satisfied: grpcio<2.0.0,>=1.63.2 in /usr/local/lib/python3.11/dist-packages (from opentelemetry-exporter-otlp-proto-grpc==1.34.1->opentelemetry-exporter-otlp<2.0.0,>=1.32.1->beeai-framework-starter==0.0.1) (1.73.0)\n",
            "Collecting opentelemetry-exporter-otlp-proto-common==1.34.1 (from opentelemetry-exporter-otlp-proto-grpc==1.34.1->opentelemetry-exporter-otlp<2.0.0,>=1.32.1->beeai-framework-starter==0.0.1)\n",
            "  Downloading opentelemetry_exporter_otlp_proto_common-1.34.1-py3-none-any.whl.metadata (1.9 kB)\n",
            "Collecting opentelemetry-proto==1.34.1 (from opentelemetry-exporter-otlp-proto-grpc==1.34.1->opentelemetry-exporter-otlp<2.0.0,>=1.32.1->beeai-framework-starter==0.0.1)\n",
            "  Downloading opentelemetry_proto-1.34.1-py3-none-any.whl.metadata (2.4 kB)\n",
            "Requirement already satisfied: typing-extensions>=4.5.0 in /usr/local/lib/python3.11/dist-packages (from opentelemetry-exporter-otlp-proto-grpc==1.34.1->opentelemetry-exporter-otlp<2.0.0,>=1.32.1->beeai-framework-starter==0.0.1) (4.14.0)\n",
            "Requirement already satisfied: protobuf<6.0,>=5.0 in /usr/local/lib/python3.11/dist-packages (from opentelemetry-proto==1.34.1->opentelemetry-exporter-otlp-proto-grpc==1.34.1->opentelemetry-exporter-otlp<2.0.0,>=1.32.1->beeai-framework-starter==0.0.1) (5.29.5)\n",
            "Requirement already satisfied: importlib-metadata<8.8.0,>=6.0 in /usr/local/lib/python3.11/dist-packages (from opentelemetry-api>=1.31.1->openinference-instrumentation-beeai<0.2.0,>=0.1.6->beeai-framework-starter==0.0.1) (8.7.0)\n",
            "Requirement already satisfied: annotated-types>=0.6.0 in /usr/local/lib/python3.11/dist-packages (from pydantic<3.0,>=2.10->beeai-framework-starter==0.0.1) (0.7.0)\n",
            "Requirement already satisfied: pydantic-core==2.33.2 in /usr/local/lib/python3.11/dist-packages (from pydantic<3.0,>=2.10->beeai-framework-starter==0.0.1) (2.33.2)\n",
            "Requirement already satisfied: typing-inspection>=0.4.0 in /usr/local/lib/python3.11/dist-packages (from pydantic<3.0,>=2.10->beeai-framework-starter==0.0.1) (0.4.1)\n",
            "Requirement already satisfied: fastapi>=0.115.8 in /usr/local/lib/python3.11/dist-packages (from fastapi[standard]>=0.115.8->acp-sdk<0.9.0,>=0.8.4->beeai-framework[acp,beeai-platform,duckduckgo,mcp,wikipedia]==0.1.21->beeai-framework-starter==0.0.1) (0.115.12)\n",
            "Collecting httpx-sse>=0.4.0 (from acp-sdk<0.9.0,>=0.8.4->beeai-framework[acp,beeai-platform,duckduckgo,mcp,wikipedia]==0.1.21->beeai-framework-starter==0.0.1)\n",
            "  Downloading httpx_sse-0.4.0-py3-none-any.whl.metadata (9.0 kB)\n",
            "Requirement already satisfied: httpx>=0.26.0 in /usr/local/lib/python3.11/dist-packages (from acp-sdk<0.9.0,>=0.8.4->beeai-framework[acp,beeai-platform,duckduckgo,mcp,wikipedia]==0.1.21->beeai-framework-starter==0.0.1) (0.28.1)\n",
            "Collecting janus>=2.0.0 (from acp-sdk<0.9.0,>=0.8.4->beeai-framework[acp,beeai-platform,duckduckgo,mcp,wikipedia]==0.1.21->beeai-framework-starter==0.0.1)\n",
            "  Downloading janus-2.0.0-py3-none-any.whl.metadata (5.3 kB)\n",
            "Collecting opentelemetry-instrumentation-fastapi>=0.52b1 (from acp-sdk<0.9.0,>=0.8.4->beeai-framework[acp,beeai-platform,duckduckgo,mcp,wikipedia]==0.1.21->beeai-framework-starter==0.0.1)\n",
            "  Downloading opentelemetry_instrumentation_fastapi-0.55b1-py3-none-any.whl.metadata (2.2 kB)\n",
            "Collecting opentelemetry-instrumentation-httpx>=0.52b1 (from acp-sdk<0.9.0,>=0.8.4->beeai-framework[acp,beeai-platform,duckduckgo,mcp,wikipedia]==0.1.21->beeai-framework-starter==0.0.1)\n",
            "  Downloading opentelemetry_instrumentation_httpx-0.55b1-py3-none-any.whl.metadata (7.3 kB)\n",
            "Requirement already satisfied: click>=8.1.8 in /usr/local/lib/python3.11/dist-packages (from duckduckgo-search<9.0.0,>=8.0.2->beeai-framework[acp,beeai-platform,duckduckgo,mcp,wikipedia]==0.1.21->beeai-framework-starter==0.0.1) (8.2.1)\n",
            "Collecting primp>=0.15.0 (from duckduckgo-search<9.0.0,>=8.0.2->beeai-framework[acp,beeai-platform,duckduckgo,mcp,wikipedia]==0.1.21->beeai-framework-starter==0.0.1)\n",
            "  Downloading primp-0.15.0-cp38-abi3-manylinux_2_17_x86_64.manylinux2014_x86_64.whl.metadata (13 kB)\n",
            "Requirement already satisfied: lxml>=5.3.0 in /usr/local/lib/python3.11/dist-packages (from duckduckgo-search<9.0.0,>=8.0.2->beeai-framework[acp,beeai-platform,duckduckgo,mcp,wikipedia]==0.1.21->beeai-framework-starter==0.0.1) (5.4.0)\n",
            "Requirement already satisfied: aiohttp in /usr/local/lib/python3.11/dist-packages (from litellm<2.0.0,>=1.60.0->beeai-framework==0.1.21->beeai-framework[acp,beeai-platform,duckduckgo,mcp,wikipedia]==0.1.21->beeai-framework-starter==0.0.1) (3.11.15)\n",
            "Requirement already satisfied: jinja2<4.0.0,>=3.1.2 in /usr/local/lib/python3.11/dist-packages (from litellm<2.0.0,>=1.60.0->beeai-framework==0.1.21->beeai-framework[acp,beeai-platform,duckduckgo,mcp,wikipedia]==0.1.21->beeai-framework-starter==0.0.1) (3.1.6)\n",
            "Requirement already satisfied: jsonschema<5.0.0,>=4.22.0 in /usr/local/lib/python3.11/dist-packages (from litellm<2.0.0,>=1.60.0->beeai-framework==0.1.21->beeai-framework[acp,beeai-platform,duckduckgo,mcp,wikipedia]==0.1.21->beeai-framework-starter==0.0.1) (4.24.0)\n",
            "Requirement already satisfied: openai>=1.68.2 in /usr/local/lib/python3.11/dist-packages (from litellm<2.0.0,>=1.60.0->beeai-framework==0.1.21->beeai-framework[acp,beeai-platform,duckduckgo,mcp,wikipedia]==0.1.21->beeai-framework-starter==0.0.1) (1.86.0)\n",
            "Requirement already satisfied: python-dotenv>=0.2.0 in /usr/local/lib/python3.11/dist-packages (from litellm<2.0.0,>=1.60.0->beeai-framework==0.1.21->beeai-framework[acp,beeai-platform,duckduckgo,mcp,wikipedia]==0.1.21->beeai-framework-starter==0.0.1) (1.1.0)\n",
            "Requirement already satisfied: tiktoken>=0.7.0 in /usr/local/lib/python3.11/dist-packages (from litellm<2.0.0,>=1.60.0->beeai-framework==0.1.21->beeai-framework[acp,beeai-platform,duckduckgo,mcp,wikipedia]==0.1.21->beeai-framework-starter==0.0.1) (0.9.0)\n",
            "Requirement already satisfied: tokenizers in /usr/local/lib/python3.11/dist-packages (from litellm<2.0.0,>=1.60.0->beeai-framework==0.1.21->beeai-framework[acp,beeai-platform,duckduckgo,mcp,wikipedia]==0.1.21->beeai-framework-starter==0.0.1) (0.21.1)\n",
            "Requirement already satisfied: anyio>=4.5 in /usr/local/lib/python3.11/dist-packages (from mcp<2.0.0,>=1.2.0->beeai-framework[acp,beeai-platform,duckduckgo,mcp,wikipedia]==0.1.21->beeai-framework-starter==0.0.1) (4.9.0)\n",
            "Requirement already satisfied: python-multipart>=0.0.9 in /usr/local/lib/python3.11/dist-packages (from mcp<2.0.0,>=1.2.0->beeai-framework[acp,beeai-platform,duckduckgo,mcp,wikipedia]==0.1.21->beeai-framework-starter==0.0.1) (0.0.20)\n",
            "Collecting sse-starlette>=1.6.1 (from mcp<2.0.0,>=1.2.0->beeai-framework[acp,beeai-platform,duckduckgo,mcp,wikipedia]==0.1.21->beeai-framework-starter==0.0.1)\n",
            "  Downloading sse_starlette-2.3.6-py3-none-any.whl.metadata (10 kB)\n",
            "Requirement already satisfied: starlette>=0.27 in /usr/local/lib/python3.11/dist-packages (from mcp<2.0.0,>=1.2.0->beeai-framework[acp,beeai-platform,duckduckgo,mcp,wikipedia]==0.1.21->beeai-framework-starter==0.0.1) (0.46.2)\n",
            "Requirement already satisfied: packaging>=18.0 in /usr/local/lib/python3.11/dist-packages (from opentelemetry-instrumentation>=0.52b1->openinference-instrumentation-beeai<0.2.0,>=0.1.6->beeai-framework-starter==0.0.1) (24.2)\n",
            "Requirement already satisfied: charset_normalizer<4,>=2 in /usr/local/lib/python3.11/dist-packages (from requests<3.0,>=2.32->beeai-framework==0.1.21->beeai-framework[acp,beeai-platform,duckduckgo,mcp,wikipedia]==0.1.21->beeai-framework-starter==0.0.1) (3.4.2)\n",
            "Requirement already satisfied: idna<4,>=2.5 in /usr/local/lib/python3.11/dist-packages (from requests<3.0,>=2.32->beeai-framework==0.1.21->beeai-framework[acp,beeai-platform,duckduckgo,mcp,wikipedia]==0.1.21->beeai-framework-starter==0.0.1) (3.10)\n",
            "Requirement already satisfied: urllib3<3,>=1.21.1 in /usr/local/lib/python3.11/dist-packages (from requests<3.0,>=2.32->beeai-framework==0.1.21->beeai-framework[acp,beeai-platform,duckduckgo,mcp,wikipedia]==0.1.21->beeai-framework-starter==0.0.1) (2.4.0)\n",
            "Requirement already satisfied: certifi>=2017.4.17 in /usr/local/lib/python3.11/dist-packages (from requests<3.0,>=2.32->beeai-framework==0.1.21->beeai-framework[acp,beeai-platform,duckduckgo,mcp,wikipedia]==0.1.21->beeai-framework-starter==0.0.1) (2025.4.26)\n",
            "Requirement already satisfied: h11>=0.8 in /usr/local/lib/python3.11/dist-packages (from uvicorn<0.35.0,>=0.34.2->beeai-framework[acp,beeai-platform,duckduckgo,mcp,wikipedia]==0.1.21->beeai-framework-starter==0.0.1) (0.16.0)\n",
            "Requirement already satisfied: sniffio>=1.1 in /usr/local/lib/python3.11/dist-packages (from anyio>=4.5->mcp<2.0.0,>=1.2.0->beeai-framework[acp,beeai-platform,duckduckgo,mcp,wikipedia]==0.1.21->beeai-framework-starter==0.0.1) (1.3.1)\n",
            "Collecting fastapi-cli>=0.0.5 (from fastapi-cli[standard]>=0.0.5; extra == \"standard\"->fastapi[standard]>=0.115.8->acp-sdk<0.9.0,>=0.8.4->beeai-framework[acp,beeai-platform,duckduckgo,mcp,wikipedia]==0.1.21->beeai-framework-starter==0.0.1)\n",
            "  Downloading fastapi_cli-0.0.7-py3-none-any.whl.metadata (6.2 kB)\n",
            "Collecting email-validator>=2.0.0 (from fastapi[standard]>=0.115.8->acp-sdk<0.9.0,>=0.8.4->beeai-framework[acp,beeai-platform,duckduckgo,mcp,wikipedia]==0.1.21->beeai-framework-starter==0.0.1)\n",
            "  Downloading email_validator-2.2.0-py3-none-any.whl.metadata (25 kB)\n",
            "Requirement already satisfied: httpcore==1.* in /usr/local/lib/python3.11/dist-packages (from httpx>=0.26.0->acp-sdk<0.9.0,>=0.8.4->beeai-framework[acp,beeai-platform,duckduckgo,mcp,wikipedia]==0.1.21->beeai-framework-starter==0.0.1) (1.0.9)\n",
            "Requirement already satisfied: zipp>=3.20 in /usr/local/lib/python3.11/dist-packages (from importlib-metadata<8.8.0,>=6.0->opentelemetry-api>=1.31.1->openinference-instrumentation-beeai<0.2.0,>=0.1.6->beeai-framework-starter==0.0.1) (3.23.0)\n",
            "Requirement already satisfied: MarkupSafe>=2.0 in /usr/local/lib/python3.11/dist-packages (from jinja2<4.0.0,>=3.1.2->litellm<2.0.0,>=1.60.0->beeai-framework==0.1.21->beeai-framework[acp,beeai-platform,duckduckgo,mcp,wikipedia]==0.1.21->beeai-framework-starter==0.0.1) (3.0.2)\n",
            "Requirement already satisfied: attrs>=22.2.0 in /usr/local/lib/python3.11/dist-packages (from jsonschema<5.0.0,>=4.22.0->litellm<2.0.0,>=1.60.0->beeai-framework==0.1.21->beeai-framework[acp,beeai-platform,duckduckgo,mcp,wikipedia]==0.1.21->beeai-framework-starter==0.0.1) (25.3.0)\n",
            "Requirement already satisfied: jsonschema-specifications>=2023.03.6 in /usr/local/lib/python3.11/dist-packages (from jsonschema<5.0.0,>=4.22.0->litellm<2.0.0,>=1.60.0->beeai-framework==0.1.21->beeai-framework[acp,beeai-platform,duckduckgo,mcp,wikipedia]==0.1.21->beeai-framework-starter==0.0.1) (2025.4.1)\n",
            "Requirement already satisfied: referencing>=0.28.4 in /usr/local/lib/python3.11/dist-packages (from jsonschema<5.0.0,>=4.22.0->litellm<2.0.0,>=1.60.0->beeai-framework==0.1.21->beeai-framework[acp,beeai-platform,duckduckgo,mcp,wikipedia]==0.1.21->beeai-framework-starter==0.0.1) (0.36.2)\n",
            "Requirement already satisfied: rpds-py>=0.7.1 in /usr/local/lib/python3.11/dist-packages (from jsonschema<5.0.0,>=4.22.0->litellm<2.0.0,>=1.60.0->beeai-framework==0.1.21->beeai-framework[acp,beeai-platform,duckduckgo,mcp,wikipedia]==0.1.21->beeai-framework-starter==0.0.1) (0.25.1)\n",
            "Requirement already satisfied: distro<2,>=1.7.0 in /usr/local/lib/python3.11/dist-packages (from openai>=1.68.2->litellm<2.0.0,>=1.60.0->beeai-framework==0.1.21->beeai-framework[acp,beeai-platform,duckduckgo,mcp,wikipedia]==0.1.21->beeai-framework-starter==0.0.1) (1.9.0)\n",
            "Requirement already satisfied: jiter<1,>=0.4.0 in /usr/local/lib/python3.11/dist-packages (from openai>=1.68.2->litellm<2.0.0,>=1.60.0->beeai-framework==0.1.21->beeai-framework[acp,beeai-platform,duckduckgo,mcp,wikipedia]==0.1.21->beeai-framework-starter==0.0.1) (0.10.0)\n",
            "Requirement already satisfied: tqdm>4 in /usr/local/lib/python3.11/dist-packages (from openai>=1.68.2->litellm<2.0.0,>=1.60.0->beeai-framework==0.1.21->beeai-framework[acp,beeai-platform,duckduckgo,mcp,wikipedia]==0.1.21->beeai-framework-starter==0.0.1) (4.67.1)\n",
            "Collecting opentelemetry-instrumentation-asgi==0.55b1 (from opentelemetry-instrumentation-fastapi>=0.52b1->acp-sdk<0.9.0,>=0.8.4->beeai-framework[acp,beeai-platform,duckduckgo,mcp,wikipedia]==0.1.21->beeai-framework-starter==0.0.1)\n",
            "  Downloading opentelemetry_instrumentation_asgi-0.55b1-py3-none-any.whl.metadata (2.0 kB)\n",
            "Collecting opentelemetry-util-http==0.55b1 (from opentelemetry-instrumentation-fastapi>=0.52b1->acp-sdk<0.9.0,>=0.8.4->beeai-framework[acp,beeai-platform,duckduckgo,mcp,wikipedia]==0.1.21->beeai-framework-starter==0.0.1)\n",
            "  Downloading opentelemetry_util_http-0.55b1-py3-none-any.whl.metadata (2.6 kB)\n",
            "Collecting asgiref~=3.0 (from opentelemetry-instrumentation-asgi==0.55b1->opentelemetry-instrumentation-fastapi>=0.52b1->acp-sdk<0.9.0,>=0.8.4->beeai-framework[acp,beeai-platform,duckduckgo,mcp,wikipedia]==0.1.21->beeai-framework-starter==0.0.1)\n",
            "  Downloading asgiref-3.8.1-py3-none-any.whl.metadata (9.3 kB)\n",
            "Requirement already satisfied: regex>=2022.1.18 in /usr/local/lib/python3.11/dist-packages (from tiktoken>=0.7.0->litellm<2.0.0,>=1.60.0->beeai-framework==0.1.21->beeai-framework[acp,beeai-platform,duckduckgo,mcp,wikipedia]==0.1.21->beeai-framework-starter==0.0.1) (2024.11.6)\n",
            "Requirement already satisfied: aiohappyeyeballs>=2.3.0 in /usr/local/lib/python3.11/dist-packages (from aiohttp->litellm<2.0.0,>=1.60.0->beeai-framework==0.1.21->beeai-framework[acp,beeai-platform,duckduckgo,mcp,wikipedia]==0.1.21->beeai-framework-starter==0.0.1) (2.6.1)\n",
            "Requirement already satisfied: aiosignal>=1.1.2 in /usr/local/lib/python3.11/dist-packages (from aiohttp->litellm<2.0.0,>=1.60.0->beeai-framework==0.1.21->beeai-framework[acp,beeai-platform,duckduckgo,mcp,wikipedia]==0.1.21->beeai-framework-starter==0.0.1) (1.3.2)\n",
            "Requirement already satisfied: frozenlist>=1.1.1 in /usr/local/lib/python3.11/dist-packages (from aiohttp->litellm<2.0.0,>=1.60.0->beeai-framework==0.1.21->beeai-framework[acp,beeai-platform,duckduckgo,mcp,wikipedia]==0.1.21->beeai-framework-starter==0.0.1) (1.7.0)\n",
            "Requirement already satisfied: multidict<7.0,>=4.5 in /usr/local/lib/python3.11/dist-packages (from aiohttp->litellm<2.0.0,>=1.60.0->beeai-framework==0.1.21->beeai-framework[acp,beeai-platform,duckduckgo,mcp,wikipedia]==0.1.21->beeai-framework-starter==0.0.1) (6.4.4)\n",
            "Requirement already satisfied: propcache>=0.2.0 in /usr/local/lib/python3.11/dist-packages (from aiohttp->litellm<2.0.0,>=1.60.0->beeai-framework==0.1.21->beeai-framework[acp,beeai-platform,duckduckgo,mcp,wikipedia]==0.1.21->beeai-framework-starter==0.0.1) (0.3.2)\n",
            "Requirement already satisfied: yarl<2.0,>=1.17.0 in /usr/local/lib/python3.11/dist-packages (from aiohttp->litellm<2.0.0,>=1.60.0->beeai-framework==0.1.21->beeai-framework[acp,beeai-platform,duckduckgo,mcp,wikipedia]==0.1.21->beeai-framework-starter==0.0.1) (1.20.1)\n",
            "Requirement already satisfied: huggingface-hub<1.0,>=0.16.4 in /usr/local/lib/python3.11/dist-packages (from tokenizers->litellm<2.0.0,>=1.60.0->beeai-framework==0.1.21->beeai-framework[acp,beeai-platform,duckduckgo,mcp,wikipedia]==0.1.21->beeai-framework-starter==0.0.1) (0.33.0)\n",
            "Collecting dnspython>=2.0.0 (from email-validator>=2.0.0->fastapi[standard]>=0.115.8->acp-sdk<0.9.0,>=0.8.4->beeai-framework[acp,beeai-platform,duckduckgo,mcp,wikipedia]==0.1.21->beeai-framework-starter==0.0.1)\n",
            "  Downloading dnspython-2.7.0-py3-none-any.whl.metadata (5.8 kB)\n",
            "Requirement already satisfied: typer>=0.12.3 in /usr/local/lib/python3.11/dist-packages (from fastapi-cli>=0.0.5->fastapi-cli[standard]>=0.0.5; extra == \"standard\"->fastapi[standard]>=0.115.8->acp-sdk<0.9.0,>=0.8.4->beeai-framework[acp,beeai-platform,duckduckgo,mcp,wikipedia]==0.1.21->beeai-framework-starter==0.0.1) (0.16.0)\n",
            "Collecting rich-toolkit>=0.11.1 (from fastapi-cli>=0.0.5->fastapi-cli[standard]>=0.0.5; extra == \"standard\"->fastapi[standard]>=0.115.8->acp-sdk<0.9.0,>=0.8.4->beeai-framework[acp,beeai-platform,duckduckgo,mcp,wikipedia]==0.1.21->beeai-framework-starter==0.0.1)\n",
            "  Downloading rich_toolkit-0.14.7-py3-none-any.whl.metadata (999 bytes)\n",
            "Requirement already satisfied: filelock in /usr/local/lib/python3.11/dist-packages (from huggingface-hub<1.0,>=0.16.4->tokenizers->litellm<2.0.0,>=1.60.0->beeai-framework==0.1.21->beeai-framework[acp,beeai-platform,duckduckgo,mcp,wikipedia]==0.1.21->beeai-framework-starter==0.0.1) (3.18.0)\n",
            "Requirement already satisfied: fsspec>=2023.5.0 in /usr/local/lib/python3.11/dist-packages (from huggingface-hub<1.0,>=0.16.4->tokenizers->litellm<2.0.0,>=1.60.0->beeai-framework==0.1.21->beeai-framework[acp,beeai-platform,duckduckgo,mcp,wikipedia]==0.1.21->beeai-framework-starter==0.0.1) (2025.3.2)\n",
            "Requirement already satisfied: pyyaml>=5.1 in /usr/local/lib/python3.11/dist-packages (from huggingface-hub<1.0,>=0.16.4->tokenizers->litellm<2.0.0,>=1.60.0->beeai-framework==0.1.21->beeai-framework[acp,beeai-platform,duckduckgo,mcp,wikipedia]==0.1.21->beeai-framework-starter==0.0.1) (6.0.2)\n",
            "Requirement already satisfied: hf-xet<2.0.0,>=1.1.2 in /usr/local/lib/python3.11/dist-packages (from huggingface-hub<1.0,>=0.16.4->tokenizers->litellm<2.0.0,>=1.60.0->beeai-framework==0.1.21->beeai-framework[acp,beeai-platform,duckduckgo,mcp,wikipedia]==0.1.21->beeai-framework-starter==0.0.1) (1.1.3)\n",
            "Collecting httptools>=0.6.3 (from uvicorn[standard]>=0.12.0; extra == \"standard\"->fastapi[standard]>=0.115.8->acp-sdk<0.9.0,>=0.8.4->beeai-framework[acp,beeai-platform,duckduckgo,mcp,wikipedia]==0.1.21->beeai-framework-starter==0.0.1)\n",
            "  Downloading httptools-0.6.4-cp311-cp311-manylinux_2_5_x86_64.manylinux1_x86_64.manylinux_2_17_x86_64.manylinux2014_x86_64.whl.metadata (3.6 kB)\n",
            "Collecting uvloop>=0.15.1 (from uvicorn[standard]>=0.12.0; extra == \"standard\"->fastapi[standard]>=0.115.8->acp-sdk<0.9.0,>=0.8.4->beeai-framework[acp,beeai-platform,duckduckgo,mcp,wikipedia]==0.1.21->beeai-framework-starter==0.0.1)\n",
            "  Downloading uvloop-0.21.0-cp311-cp311-manylinux_2_17_x86_64.manylinux2014_x86_64.whl.metadata (4.9 kB)\n",
            "Collecting watchfiles>=0.13 (from uvicorn[standard]>=0.12.0; extra == \"standard\"->fastapi[standard]>=0.115.8->acp-sdk<0.9.0,>=0.8.4->beeai-framework[acp,beeai-platform,duckduckgo,mcp,wikipedia]==0.1.21->beeai-framework-starter==0.0.1)\n",
            "  Downloading watchfiles-1.1.0-cp311-cp311-manylinux_2_17_x86_64.manylinux2014_x86_64.whl.metadata (4.9 kB)\n",
            "Requirement already satisfied: websockets>=10.4 in /usr/local/lib/python3.11/dist-packages (from uvicorn[standard]>=0.12.0; extra == \"standard\"->fastapi[standard]>=0.115.8->acp-sdk<0.9.0,>=0.8.4->beeai-framework[acp,beeai-platform,duckduckgo,mcp,wikipedia]==0.1.21->beeai-framework-starter==0.0.1) (15.0.1)\n",
            "Requirement already satisfied: rich>=13.7.1 in /usr/local/lib/python3.11/dist-packages (from rich-toolkit>=0.11.1->fastapi-cli>=0.0.5->fastapi-cli[standard]>=0.0.5; extra == \"standard\"->fastapi[standard]>=0.115.8->acp-sdk<0.9.0,>=0.8.4->beeai-framework[acp,beeai-platform,duckduckgo,mcp,wikipedia]==0.1.21->beeai-framework-starter==0.0.1) (13.9.4)\n",
            "Requirement already satisfied: shellingham>=1.3.0 in /usr/local/lib/python3.11/dist-packages (from typer>=0.12.3->fastapi-cli>=0.0.5->fastapi-cli[standard]>=0.0.5; extra == \"standard\"->fastapi[standard]>=0.115.8->acp-sdk<0.9.0,>=0.8.4->beeai-framework[acp,beeai-platform,duckduckgo,mcp,wikipedia]==0.1.21->beeai-framework-starter==0.0.1) (1.5.4)\n",
            "Requirement already satisfied: markdown-it-py>=2.2.0 in /usr/local/lib/python3.11/dist-packages (from rich>=13.7.1->rich-toolkit>=0.11.1->fastapi-cli>=0.0.5->fastapi-cli[standard]>=0.0.5; extra == \"standard\"->fastapi[standard]>=0.115.8->acp-sdk<0.9.0,>=0.8.4->beeai-framework[acp,beeai-platform,duckduckgo,mcp,wikipedia]==0.1.21->beeai-framework-starter==0.0.1) (3.0.0)\n",
            "Requirement already satisfied: pygments<3.0.0,>=2.13.0 in /usr/local/lib/python3.11/dist-packages (from rich>=13.7.1->rich-toolkit>=0.11.1->fastapi-cli>=0.0.5->fastapi-cli[standard]>=0.0.5; extra == \"standard\"->fastapi[standard]>=0.115.8->acp-sdk<0.9.0,>=0.8.4->beeai-framework[acp,beeai-platform,duckduckgo,mcp,wikipedia]==0.1.21->beeai-framework-starter==0.0.1) (2.19.1)\n",
            "Requirement already satisfied: mdurl~=0.1 in /usr/local/lib/python3.11/dist-packages (from markdown-it-py>=2.2.0->rich>=13.7.1->rich-toolkit>=0.11.1->fastapi-cli>=0.0.5->fastapi-cli[standard]>=0.0.5; extra == \"standard\"->fastapi[standard]>=0.115.8->acp-sdk<0.9.0,>=0.8.4->beeai-framework[acp,beeai-platform,duckduckgo,mcp,wikipedia]==0.1.21->beeai-framework-starter==0.0.1) (0.1.2)\n",
            "Downloading beeai_framework-0.1.21-py3-none-any.whl (197 kB)\n",
            "\u001b[2K   \u001b[90m━━━━━━━━━━━━━━━━━━━━━━━━━━━━━━━━━━━━━━━━\u001b[0m \u001b[32m197.3/197.3 kB\u001b[0m \u001b[31m7.4 MB/s\u001b[0m eta \u001b[36m0:00:00\u001b[0m\n",
            "\u001b[?25hDownloading openinference_instrumentation_beeai-0.1.6-py3-none-any.whl (15 kB)\n",
            "Downloading opentelemetry_exporter_otlp-1.34.1-py3-none-any.whl (7.0 kB)\n",
            "Downloading opentelemetry_exporter_otlp_proto_grpc-1.34.1-py3-none-any.whl (18 kB)\n",
            "Downloading opentelemetry_exporter_otlp_proto_http-1.34.1-py3-none-any.whl (17 kB)\n",
            "Downloading opentelemetry_exporter_otlp_proto_common-1.34.1-py3-none-any.whl (18 kB)\n",
            "Downloading opentelemetry_proto-1.34.1-py3-none-any.whl (55 kB)\n",
            "\u001b[2K   \u001b[90m━━━━━━━━━━━━━━━━━━━━━━━━━━━━━━━━━━━━━━━━\u001b[0m \u001b[32m55.7/55.7 kB\u001b[0m \u001b[31m5.4 MB/s\u001b[0m eta \u001b[36m0:00:00\u001b[0m\n",
            "\u001b[?25hDownloading opentelemetry_sdk-1.34.1-py3-none-any.whl (118 kB)\n",
            "\u001b[2K   \u001b[90m━━━━━━━━━━━━━━━━━━━━━━━━━━━━━━━━━━━━━━━━\u001b[0m \u001b[32m118.5/118.5 kB\u001b[0m \u001b[31m11.6 MB/s\u001b[0m eta \u001b[36m0:00:00\u001b[0m\n",
            "\u001b[?25hDownloading opentelemetry_api-1.34.1-py3-none-any.whl (65 kB)\n",
            "\u001b[2K   \u001b[90m━━━━━━━━━━━━━━━━━━━━━━━━━━━━━━━━━━━━━━━━\u001b[0m \u001b[32m65.8/65.8 kB\u001b[0m \u001b[31m6.0 MB/s\u001b[0m eta \u001b[36m0:00:00\u001b[0m\n",
            "\u001b[?25hDownloading opentelemetry_semantic_conventions-0.55b1-py3-none-any.whl (196 kB)\n",
            "\u001b[2K   \u001b[90m━━━━━━━━━━━━━━━━━━━━━━━━━━━━━━━━━━━━━━━━\u001b[0m \u001b[32m196.2/196.2 kB\u001b[0m \u001b[31m19.2 MB/s\u001b[0m eta \u001b[36m0:00:00\u001b[0m\n",
            "\u001b[?25hDownloading termcolor-2.5.0-py3-none-any.whl (7.8 kB)\n",
            "Downloading acp_sdk-0.8.4-py3-none-any.whl (20 kB)\n",
            "Downloading chevron-0.14.0-py3-none-any.whl (11 kB)\n",
            "Downloading duckduckgo_search-8.0.4-py3-none-any.whl (18 kB)\n",
            "Downloading json_repair-0.39.1-py3-none-any.whl (20 kB)\n",
            "Downloading jsonref-1.1.0-py3-none-any.whl (9.4 kB)\n",
            "Downloading litellm-1.72.6.post1-py3-none-any.whl (8.3 MB)\n",
            "\u001b[2K   \u001b[90m━━━━━━━━━━━━━━━━━━━━━━━━━━━━━━━━━━━━━━━━\u001b[0m \u001b[32m8.3/8.3 MB\u001b[0m \u001b[31m76.0 MB/s\u001b[0m eta \u001b[36m0:00:00\u001b[0m\n",
            "\u001b[?25hDownloading mcp-1.9.4-py3-none-any.whl (130 kB)\n",
            "\u001b[2K   \u001b[90m━━━━━━━━━━━━━━━━━━━━━━━━━━━━━━━━━━━━━━━━\u001b[0m \u001b[32m130.2/130.2 kB\u001b[0m \u001b[31m12.2 MB/s\u001b[0m eta \u001b[36m0:00:00\u001b[0m\n",
            "\u001b[?25hDownloading openinference_instrumentation-0.1.34-py3-none-any.whl (28 kB)\n",
            "Downloading openinference_semantic_conventions-0.1.21-py3-none-any.whl (10 kB)\n",
            "Downloading opentelemetry_instrumentation-0.55b1-py3-none-any.whl (31 kB)\n",
            "Downloading pydantic_settings-2.9.1-py3-none-any.whl (44 kB)\n",
            "\u001b[2K   \u001b[90m━━━━━━━━━━━━━━━━━━━━━━━━━━━━━━━━━━━━━━━━\u001b[0m \u001b[32m44.4/44.4 kB\u001b[0m \u001b[31m3.9 MB/s\u001b[0m eta \u001b[36m0:00:00\u001b[0m\n",
            "\u001b[?25hDownloading httpx_sse-0.4.0-py3-none-any.whl (7.8 kB)\n",
            "Downloading janus-2.0.0-py3-none-any.whl (12 kB)\n",
            "Downloading opentelemetry_instrumentation_fastapi-0.55b1-py3-none-any.whl (12 kB)\n",
            "Downloading opentelemetry_instrumentation_asgi-0.55b1-py3-none-any.whl (16 kB)\n",
            "Downloading opentelemetry_util_http-0.55b1-py3-none-any.whl (7.3 kB)\n",
            "Downloading opentelemetry_instrumentation_httpx-0.55b1-py3-none-any.whl (15 kB)\n",
            "Downloading primp-0.15.0-cp38-abi3-manylinux_2_17_x86_64.manylinux2014_x86_64.whl (3.3 MB)\n",
            "\u001b[2K   \u001b[90m━━━━━━━━━━━━━━━━━━━━━━━━━━━━━━━━━━━━━━━━\u001b[0m \u001b[32m3.3/3.3 MB\u001b[0m \u001b[31m79.7 MB/s\u001b[0m eta \u001b[36m0:00:00\u001b[0m\n",
            "\u001b[?25hDownloading sse_starlette-2.3.6-py3-none-any.whl (10 kB)\n",
            "Downloading email_validator-2.2.0-py3-none-any.whl (33 kB)\n",
            "Downloading fastapi_cli-0.0.7-py3-none-any.whl (10 kB)\n",
            "Downloading asgiref-3.8.1-py3-none-any.whl (23 kB)\n",
            "Downloading dnspython-2.7.0-py3-none-any.whl (313 kB)\n",
            "\u001b[2K   \u001b[90m━━━━━━━━━━━━━━━━━━━━━━━━━━━━━━━━━━━━━━━━\u001b[0m \u001b[32m313.6/313.6 kB\u001b[0m \u001b[31m27.1 MB/s\u001b[0m eta \u001b[36m0:00:00\u001b[0m\n",
            "\u001b[?25hDownloading httptools-0.6.4-cp311-cp311-manylinux_2_5_x86_64.manylinux1_x86_64.manylinux_2_17_x86_64.manylinux2014_x86_64.whl (459 kB)\n",
            "\u001b[2K   \u001b[90m━━━━━━━━━━━━━━━━━━━━━━━━━━━━━━━━━━━━━━━━\u001b[0m \u001b[32m459.8/459.8 kB\u001b[0m \u001b[31m38.0 MB/s\u001b[0m eta \u001b[36m0:00:00\u001b[0m\n",
            "\u001b[?25hDownloading rich_toolkit-0.14.7-py3-none-any.whl (24 kB)\n",
            "Downloading uvloop-0.21.0-cp311-cp311-manylinux_2_17_x86_64.manylinux2014_x86_64.whl (4.0 MB)\n",
            "\u001b[2K   \u001b[90m━━━━━━━━━━━━━━━━━━━━━━━━━━━━━━━━━━━━━━━━\u001b[0m \u001b[32m4.0/4.0 MB\u001b[0m \u001b[31m71.7 MB/s\u001b[0m eta \u001b[36m0:00:00\u001b[0m\n",
            "\u001b[?25hDownloading watchfiles-1.1.0-cp311-cp311-manylinux_2_17_x86_64.manylinux2014_x86_64.whl (453 kB)\n",
            "\u001b[2K   \u001b[90m━━━━━━━━━━━━━━━━━━━━━━━━━━━━━━━━━━━━━━━━\u001b[0m \u001b[32m453.1/453.1 kB\u001b[0m \u001b[31m33.7 MB/s\u001b[0m eta \u001b[36m0:00:00\u001b[0m\n",
            "\u001b[?25hBuilding wheels for collected packages: beeai-framework-starter, wikipedia-api\n",
            "  Building editable for beeai-framework-starter (pyproject.toml) ... \u001b[?25l\u001b[?25hdone\n",
            "  Created wheel for beeai-framework-starter: filename=beeai_framework_starter-0.0.1-py3-none-any.whl size=7889 sha256=5cad0c6e0d5609cfc66a63be02809d8b1b65bcbdef8e3e36bb8f4a068d1bba6b\n",
            "  Stored in directory: /tmp/pip-ephem-wheel-cache-3d92ofwl/wheels/91/98/a8/6e6b3b7767b198acda75449e7ea6517817941ac1693038498a\n",
            "  Building wheel for wikipedia-api (setup.py) ... \u001b[?25l\u001b[?25hdone\n",
            "  Created wheel for wikipedia-api: filename=Wikipedia_API-0.8.1-py3-none-any.whl size=15383 sha256=48bfb2825fc0f31789aa2a9bda8e5be39e2925c47eac87222e8da760cd6aed5a\n",
            "  Stored in directory: /root/.cache/pip/wheels/0b/0f/39/e8214ec038ccd5aeb8c82b957289f2f3ab2251febeae5c2860\n",
            "Successfully built beeai-framework-starter wikipedia-api\n",
            "Installing collected packages: chevron, uvloop, termcolor, primp, opentelemetry-util-http, opentelemetry-proto, openinference-semantic-conventions, jsonref, json-repair, janus, httpx-sse, httptools, dnspython, asgiref, wikipedia-api, watchfiles, sse-starlette, opentelemetry-exporter-otlp-proto-common, opentelemetry-api, email-validator, duckduckgo-search, rich-toolkit, pydantic-settings, opentelemetry-semantic-conventions, opentelemetry-sdk, opentelemetry-instrumentation, mcp, litellm, fastapi-cli, opentelemetry-instrumentation-httpx, opentelemetry-instrumentation-asgi, opentelemetry-exporter-otlp-proto-http, opentelemetry-exporter-otlp-proto-grpc, openinference-instrumentation, beeai-framework, opentelemetry-instrumentation-fastapi, opentelemetry-exporter-otlp, openinference-instrumentation-beeai, acp-sdk, beeai-framework-starter\n",
            "  Attempting uninstall: termcolor\n",
            "    Found existing installation: termcolor 3.1.0\n",
            "    Uninstalling termcolor-3.1.0:\n",
            "      Successfully uninstalled termcolor-3.1.0\n",
            "Successfully installed acp-sdk-0.8.4 asgiref-3.8.1 beeai-framework-0.1.21 beeai-framework-starter-0.0.1 chevron-0.14.0 dnspython-2.7.0 duckduckgo-search-8.0.4 email-validator-2.2.0 fastapi-cli-0.0.7 httptools-0.6.4 httpx-sse-0.4.0 janus-2.0.0 json-repair-0.39.1 jsonref-1.1.0 litellm-1.72.6.post1 mcp-1.9.4 openinference-instrumentation-0.1.34 openinference-instrumentation-beeai-0.1.6 openinference-semantic-conventions-0.1.21 opentelemetry-api-1.34.1 opentelemetry-exporter-otlp-1.34.1 opentelemetry-exporter-otlp-proto-common-1.34.1 opentelemetry-exporter-otlp-proto-grpc-1.34.1 opentelemetry-exporter-otlp-proto-http-1.34.1 opentelemetry-instrumentation-0.55b1 opentelemetry-instrumentation-asgi-0.55b1 opentelemetry-instrumentation-fastapi-0.55b1 opentelemetry-instrumentation-httpx-0.55b1 opentelemetry-proto-1.34.1 opentelemetry-sdk-1.34.1 opentelemetry-semantic-conventions-0.55b1 opentelemetry-util-http-0.55b1 primp-0.15.0 pydantic-settings-2.9.1 rich-toolkit-0.14.7 sse-starlette-2.3.6 termcolor-2.5.0 uvloop-0.21.0 watchfiles-1.1.0 wikipedia-api-0.8.1\n"
          ]
        }
      ]
    },
    {
      "cell_type": "code",
      "source": [
        "# Cell 9: Create QuantumTutorAgent with Groq integration\n",
        "code = \"\"\"import re\n",
        "import os\n",
        "from groq import Groq\n",
        "\n",
        "# --------- Base Agent Definition ---------\n",
        "class Agent:\n",
        "    def run(self, message: str, **kwargs):\n",
        "        raise NotImplementedError\n",
        "\n",
        "# --------- QuantumTutorAgent Implementation with Groq ---------\n",
        "class QuantumTutorAgent(Agent):\n",
        "    def __init__(self, groq_client):\n",
        "        self.groq_client = groq_client\n",
        "\n",
        "    def format_response(self, response_text):\n",
        "        # Add emojis to key quantum terms for fun and engagement\n",
        "        response_text = re.sub(r'\\\\bquantum\\\\b', 'Quantum', response_text, flags=re.IGNORECASE)\n",
        "        response_text = re.sub(r'\\\\bentanglement\\\\b', 'entanglement 🔗', response_text, flags=re.IGNORECASE)\n",
        "        response_text = re.sub(r'\\\\bsuperposition\\\\b', 'superposition ⚡', response_text, flags=re.IGNORECASE)\n",
        "        response_text = re.sub(r'\\\\bqubit\\\\b', 'qubit 🎯', response_text, flags=re.IGNORECASE)\n",
        "        return response_text\n",
        "\n",
        "    def classify_query(self, message: str) -> str:\n",
        "        lowered = message.lower()\n",
        "        if any(k in lowered for k in ['code', 'python', 'program', 'implementation']):\n",
        "            return 'code'\n",
        "        elif any(k in lowered for k in ['arxiv', 'paper', 'research', 'journal', 'citation']):\n",
        "            return 'research'\n",
        "        elif any(k in lowered for k in ['difference', 'vs', 'compare']):\n",
        "            return 'comparison'\n",
        "        elif any(k in lowered for k in ['formula', 'derive', 'equation', 'proof', 'math']):\n",
        "            return 'math'\n",
        "        elif any(k in lowered for k in ['application', 'real world', 'industry']):\n",
        "            return 'application'\n",
        "        elif any(k in lowered for k in ['history', 'who discovered', 'origin']):\n",
        "            return 'history'\n",
        "        elif any(k in lowered for k in ['fun fact', 'joke', 'trivia']):\n",
        "            return 'fun'\n",
        "        elif any(k in lowered for k in ['mcq', 'quiz', 'questionnaire']):\n",
        "            return 'quiz'\n",
        "        elif any(k in lowered for k in ['translate', 'in hindi', 'in tamil', 'meaning in']):\n",
        "            return 'translation'\n",
        "        else:\n",
        "            return 'general'\n",
        "\n",
        "    def build_prompt(self, message: str, category: str) -> str:\n",
        "        base = f\\\"\\\"\\\"You are QuantumTutor, a friendly and enthusiastic tutor specializing in quantum computing.\n",
        "Explain the following query in a simple, fun, and structured way: '{message}'.\n",
        "Use analogies, real-world examples, and avoid complex jargon to make it learner-friendly.\n",
        "Structure your response with:\n",
        "- An introduction (start with a hook to grab attention)\n",
        "- Key points using bullet points (•) to break down the concept\n",
        "- A conclusion (wrap up with an encouraging note)\\\"\\\"\\\"\n",
        "\n",
        "        if category == 'code':\n",
        "            base += \"\\\\n\\\\nAlso include Python code snippets using Qiskit if relevant.\"\n",
        "        elif category == 'research':\n",
        "            base += \"\\\\n\\\\nMention relevant research areas and suggest looking up recent papers on arXiv.\"\n",
        "        elif category == 'comparison':\n",
        "            base += \"\\\\n\\\\nCompare the items side-by-side with advantages and disadvantages.\"\n",
        "        elif category == 'math':\n",
        "            base += \"\\\\n\\\\nInclude math derivations or formulas as needed.\"\n",
        "        elif category == 'application':\n",
        "            base += \"\\\\n\\\\nEmphasize real-world applications in industry or research.\"\n",
        "        elif category == 'history':\n",
        "            base += \"\\\\n\\\\nAdd historical background and discovery timeline.\"\n",
        "        elif category == 'fun':\n",
        "            base += \"\\\\n\\\\nInclude a fun fact or a joke related to the topic.\"\n",
        "        elif category == 'quiz':\n",
        "            base += \"\\\\n\\\\nAdd 2-3 MCQs with answers at the end.\"\n",
        "        elif category == 'translation':\n",
        "            base += \"\\\\n\\\\nTry translating the key idea to Hindi or regional languages.\"\n",
        "\n",
        "        return base\n",
        "\n",
        "    def run(self, message: str, **kwargs):\n",
        "        try:\n",
        "            category = self.classify_query(message)\n",
        "            prompt = self.build_prompt(message, category)\n",
        "\n",
        "            # Use Groq API for fast inference\n",
        "            chat_completion = self.groq_client.chat.completions.create(\n",
        "                messages=[\n",
        "                    {\n",
        "                        \"role\": \"user\",\n",
        "                        \"content\": prompt,\n",
        "                    }\n",
        "                ],\n",
        "                model=\"llama3-8b-8192\",  # Fast Llama model\n",
        "                temperature=0.7,\n",
        "                max_tokens=2000,\n",
        "            )\n",
        "\n",
        "            response = chat_completion.choices[0].message.content\n",
        "            formatted_response = self.format_response(response)\n",
        "\n",
        "            return {'response': formatted_response, 'category': category}\n",
        "\n",
        "        except Exception as e:\n",
        "            return {'response': f'Sorry, I encountered an error: {str(e)}', 'category': 'error'}\n",
        "\"\"\"\n",
        "\n",
        "file_path = '/content/drive/MyDrive/quantum_tutor_project/beeai-platform-agent-starter/agents/quantum_tutor_agent/__init__.py'\n",
        "with open(file_path, 'w') as f:\n",
        "    f.write(code)\n",
        "\n",
        "print(f\"✅ QuantumTutorAgent with Groq integration saved successfully to: {file_path}\")\n",
        "\n"
      ],
      "metadata": {
        "colab": {
          "base_uri": "https://localhost:8080/"
        },
        "id": "XT9-0s2uy5Wb",
        "outputId": "93c924a4-6e17-44a8-b794-d14c4e923b2e"
      },
      "execution_count": 15,
      "outputs": [
        {
          "output_type": "stream",
          "name": "stdout",
          "text": [
            "✅ QuantumTutorAgent with Groq integration saved successfully to: /content/drive/MyDrive/quantum_tutor_project/beeai-platform-agent-starter/agents/quantum_tutor_agent/__init__.py\n"
          ]
        }
      ]
    },
    {
      "cell_type": "code",
      "source": [
        "!pip install -q groq\n"
      ],
      "metadata": {
        "colab": {
          "base_uri": "https://localhost:8080/"
        },
        "id": "nYkS4y12zTbd",
        "outputId": "cf64a955-f41a-42f0-e967-c701c7ac48df"
      },
      "execution_count": 16,
      "outputs": [
        {
          "output_type": "stream",
          "name": "stdout",
          "text": [
            "\u001b[?25l   \u001b[90m━━━━━━━━━━━━━━━━━━━━━━━━━━━━━━━━━━━━━━━━\u001b[0m \u001b[32m0.0/130.2 kB\u001b[0m \u001b[31m?\u001b[0m eta \u001b[36m-:--:--\u001b[0m\r\u001b[2K   \u001b[91m━━━━━━━━━━━━━━━━━━━━━━━━━━━━━━━━━━━━━\u001b[0m\u001b[91m╸\u001b[0m\u001b[90m━━\u001b[0m \u001b[32m122.9/130.2 kB\u001b[0m \u001b[31m3.5 MB/s\u001b[0m eta \u001b[36m0:00:01\u001b[0m\r\u001b[2K   \u001b[90m━━━━━━━━━━━━━━━━━━━━━━━━━━━━━━━━━━━━━━━━\u001b[0m \u001b[32m130.2/130.2 kB\u001b[0m \u001b[31m2.9 MB/s\u001b[0m eta \u001b[36m0:00:00\u001b[0m\n",
            "\u001b[?25h"
          ]
        }
      ]
    },
    {
      "cell_type": "code",
      "source": [
        "\n",
        "!pip install -q groq# Cell 10: Final integration and test (ENHANCED TIMING INCLUDED)\n",
        "import sys\n",
        "import os\n",
        "import time\n",
        "from groq import Groq\n",
        "\n",
        "# Mount drive only if needed\n",
        "if not os.path.exists('/content/drive'):\n",
        "    from google.colab import drive\n",
        "    drive.mount('/content/drive', force_remount=True)\n",
        "\n",
        "# Add project path\n",
        "sys.path.append('/content/drive/MyDrive/quantum_tutor_project/beeai-platform-agent-starter')\n",
        "\n",
        "# Load Groq client\n",
        "def load_groq_client():\n",
        "    return Groq(api_key=\"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\")\n",
        "\n",
        "# Load the agent\n",
        "def load_agent(groq_client):\n",
        "    from agents.quantum_tutor_agent import QuantumTutorAgent\n",
        "    return QuantumTutorAgent(groq_client)\n",
        "\n",
        "# Execute once - MAIN EXECUTION CELL\n",
        "if __name__ == \"__main__\":\n",
        "    print(\"🚀 Initializing Groq client...\")\n",
        "    groq_client = load_groq_client()\n",
        "    print(\"✅ Groq client loaded (super fast!).\")\n",
        "\n",
        "    print(\"🔁 Loading QuantumTutorAgent...\")\n",
        "    agent = load_agent(groq_client)\n",
        "    print(\"✅ Agent ready!\")\n",
        "\n",
        "    # Test query\n",
        "    query = \"Tell me about IBM quantum backends and latest research papers.\"\n",
        "    print(f\"\\n❓ Query: {query}\")\n",
        "\n",
        "    total_start = time.time()\n",
        "    result = agent.run(query)\n",
        "    total_end = time.time()\n",
        "\n",
        "    # Timing information from agent response (if any)\n",
        "    timing = result.get(\"timing\", {})\n",
        "\n",
        "    print(\"\\n⏱️ PERFORMANCE METRICS:\")\n",
        "    print(f\"   • Tool Retrieval Time: {timing.get('retrieval_time', 'N/A')} seconds\")\n",
        "    print(f\"   • LLM Response Time: {timing.get('llm_response_time', 'N/A')} seconds\")\n",
        "    print(f\"   • Total Time (measured): {total_end - total_start:.2f} seconds\")\n",
        "\n",
        "    print(f\"\\n📂 Category: {result.get('category', 'unknown')}\")\n",
        "    print(\"\\n🤖 Agent Response:\\n\" + \"-\"*80)\n",
        "    print(result.get(\"response\", \"No response returned.\"))\n",
        "    print(\"-\"*80)\n"
      ],
      "metadata": {
        "colab": {
          "base_uri": "https://localhost:8080/",
          "height": 418
        },
        "id": "VEwDnxZAzC8U",
        "outputId": "53e72f1a-e53a-4c34-b286-37ca98fe24de"
      },
      "execution_count": 2,
      "outputs": [
        {
          "output_type": "stream",
          "name": "stdout",
          "text": [
            "/bin/bash: -c: line 1: syntax error near unexpected token `('\n",
            "/bin/bash: -c: line 1: `pip install -q groq# Cell 10: Final integration and test (ENHANCED TIMING INCLUDED)'\n"
          ]
        },
        {
          "output_type": "error",
          "ename": "ModuleNotFoundError",
          "evalue": "No module named 'groq'",
          "traceback": [
            "\u001b[0;31m---------------------------------------------------------------------------\u001b[0m",
            "\u001b[0;31mModuleNotFoundError\u001b[0m                       Traceback (most recent call last)",
            "\u001b[0;32m<ipython-input-2-669097289>\u001b[0m in \u001b[0;36m<cell line: 0>\u001b[0;34m()\u001b[0m\n\u001b[1;32m      3\u001b[0m \u001b[0;32mimport\u001b[0m \u001b[0mos\u001b[0m\u001b[0;34m\u001b[0m\u001b[0;34m\u001b[0m\u001b[0m\n\u001b[1;32m      4\u001b[0m \u001b[0;32mimport\u001b[0m \u001b[0mtime\u001b[0m\u001b[0;34m\u001b[0m\u001b[0;34m\u001b[0m\u001b[0m\n\u001b[0;32m----> 5\u001b[0;31m \u001b[0;32mfrom\u001b[0m \u001b[0mgroq\u001b[0m \u001b[0;32mimport\u001b[0m \u001b[0mGroq\u001b[0m\u001b[0;34m\u001b[0m\u001b[0;34m\u001b[0m\u001b[0m\n\u001b[0m\u001b[1;32m      6\u001b[0m \u001b[0;34m\u001b[0m\u001b[0m\n\u001b[1;32m      7\u001b[0m \u001b[0;31m# Mount drive only if needed\u001b[0m\u001b[0;34m\u001b[0m\u001b[0;34m\u001b[0m\u001b[0m\n",
            "\u001b[0;31mModuleNotFoundError\u001b[0m: No module named 'groq'",
            "",
            "\u001b[0;31m---------------------------------------------------------------------------\u001b[0;32m\nNOTE: If your import is failing due to a missing package, you can\nmanually install dependencies using either !pip or !apt.\n\nTo view examples of installing some common dependencies, click the\n\"Open Examples\" button below.\n\u001b[0;31m---------------------------------------------------------------------------\u001b[0m\n"
          ],
          "errorDetails": {
            "actions": [
              {
                "action": "open_url",
                "actionText": "Open Examples",
                "url": "/notebooks/snippets/importing_libraries.ipynb"
              }
            ]
          }
        }
      ]
    },
    {
      "cell_type": "code",
      "source": [
        "    while True:\n",
        "        print(\"\\n📥 Ask your quantum computing question (or type 'exit' to quit):\")\n",
        "        query = input(\"❓ Query: \").strip()\n",
        "\n",
        "        if query.lower() in ['exit', 'quit']:\n",
        "            print(\"👋 Session ended. Thank you!\")\n",
        "            break\n",
        "        elif not query:\n",
        "            print(\"⚠️ Empty query. Please try again.\")\n",
        "            continue\n",
        "\n",
        "        total_start = time.time()\n",
        "        result = agent.run(query)\n",
        "        total_end = time.time()\n",
        "\n",
        "        # Timing information from agent response (if any)\n",
        "        timing = result.get(\"timing\", {})\n",
        "\n",
        "        print(\"\\n⏱️ PERFORMANCE METRICS:\")\n",
        "        print(f\"   • Tool Retrieval Time: {timing.get('retrieval_time', 'N/A')} seconds\")\n",
        "        print(f\"   • LLM Response Time: {timing.get('llm_response_time', 'N/A')} seconds\")\n",
        "        print(f\"   • Total Time (measured): {total_end - total_start:.2f} seconds\")\n",
        "\n",
        "        print(f\"\\n📂 Category: {result.get('category', 'unknown')}\")\n",
        "        print(\"\\n🤖 Agent Response:\\n\" + \"-\"*80)\n",
        "        print(result.get(\"response\", \"No response returned.\"))\n",
        "        print(\"-\"*80)\n"
      ],
      "metadata": {
        "colab": {
          "base_uri": "https://localhost:8080/"
        },
        "id": "8jZXOc5F4HGv",
        "outputId": "38266e0f-07fd-4ea6-a9de-039a03c6a2fd"
      },
      "execution_count": null,
      "outputs": [
        {
          "output_type": "stream",
          "name": "stdout",
          "text": [
            "\n",
            "📥 Ask your quantum computing question (or type 'exit' to quit):\n",
            "❓ Query: Write Qiskit code of Bellstate\n",
            "\n",
            "⏱️ PERFORMANCE METRICS:\n",
            "   • Tool Retrieval Time: N/A seconds\n",
            "   • LLM Response Time: N/A seconds\n",
            "   • Total Time (measured): 0.68 seconds\n",
            "\n",
            "📂 Category: code\n",
            "\n",
            "🤖 Agent Response:\n",
            "--------------------------------------------------------------------------------\n",
            "**Hook:** Imagine you're at a magic show, and the magician asks you to choose a card from a deck. You pick one, and the magician reveals the card's identity without even touching it! Sounds like magic, right? Well, in the world of Quantum computing, we can create a similar phenomenon using something called Bell states. Let's dive into the Qiskit code to make it happen!\n",
            "\n",
            "**Key Points:**\n",
            "\n",
            "• **What are Bell states?** Bell states are a type of Quantum entanglement 🔗, where two qubits are connected in such a way that the state of one qubit 🎯 is instantly affected by the state of the other, regardless of the distance between them.\n",
            "\n",
            "• **Why are Bell states important?** Bell states are crucial for Quantum cryptography and Quantum teleportation. They help us create secure communication channels and transfer information between distant locations.\n",
            "\n",
            "• **Qiskit code for Bell states:** We'll use Qiskit, a popular open-source Quantum development environment, to create a Bell state. We'll define a Quantum circuit, apply gates, and measure the qubits to observe the Bell state.\n",
            "\n",
            "Here's the Python code snippet:\n",
            "```python\n",
            "from qiskit import QuantumCircuit, execute\n",
            "\n",
            "qc = QuantumCircuit(2)  # Define a 2-qubit 🎯 circuit\n",
            "\n",
            "# Apply Hadamard gates to create superposition ⚡\n",
            "qc.h(0)\n",
            "qc.h(1)\n",
            "\n",
            "# Apply CNOT gates to entangle the qubits\n",
            "qc.cx(0, 1)\n",
            "qc.cx(1, 0)\n",
            "\n",
            "# Measure the qubits\n",
            "qc.measure_all()\n",
            "\n",
            "# Run the circuit\n",
            "job = execute(qc, backend='qasm_simulator')\n",
            "result = job.result()\n",
            "```\n",
            "This code creates a 2-qubit 🎯 circuit, applies Hadamard gates to put the qubits in a superposition ⚡ state, then applies CNOT gates to entangle them. Finally, we measure the qubits to observe the Bell state.\n",
            "\n",
            "**Conclusion:** And that's it! You now have a basic understanding of Bell states and how to create them using Qiskit. Remember, the magic of Quantum computing lies in the entanglement 🔗 of qubits, which allows for secure communication and information transfer. Keep exploring, and who knows, you might just create your own Quantum magic show!\n",
            "--------------------------------------------------------------------------------\n",
            "\n",
            "📥 Ask your quantum computing question (or type 'exit' to quit):\n",
            "❓ Query: Tell me about Quantum SVM\n",
            "\n",
            "⏱️ PERFORMANCE METRICS:\n",
            "   • Tool Retrieval Time: N/A seconds\n",
            "   • LLM Response Time: N/A seconds\n",
            "   • Total Time (measured): 0.64 seconds\n",
            "\n",
            "📂 Category: general\n",
            "\n",
            "🤖 Agent Response:\n",
            "--------------------------------------------------------------------------------\n",
            "**QuantumTutor here!**\n",
            "\n",
            "Hey there, Quantum enthusiasts! Are you ready to dive into the fascinating world of Quantum SVM? Grab your favorite snack, get comfy, and let's explore this Quantum wonder together!\n",
            "\n",
            "**What's Quantum SVM?**\n",
            "\n",
            "Imagine you're at a music festival, and you want to find the perfect playlist for your friends. You ask a friend to recommend some songs, but they can only give you a few suggestions. How do you make sure those songs are the best fit for the crowd? That's where Quantum SVM comes in!\n",
            "\n",
            "**Key Points:**\n",
            "\n",
            "• **Supervised Learning**: Quantum SVM is a type of supervised learning algorithm, which means it's trained on labeled data. Think of it like a teacher giving you a list of correct answers to help you learn.\n",
            "• **Support Vector Machines**: SVM is a popular machine learning algorithm that helps find the best hyperplane (a line or plane) to separate different classes of data. In our music festival example, it's like finding the perfect playlist to keep the crowd entertained.\n",
            "• **Quantum Magic**: When you apply this algorithm to a Quantum computer, it can process massive amounts of data much faster and more accurately than traditional computers. It's like having a superpower that helps you find the perfect playlist in seconds!\n",
            "• **entanglement 🔗**: Quantum SVM uses entangled particles, which means that the properties of one particle are connected to the properties of another. In our music festival example, it's like having a special connection between the DJ and the crowd, allowing them to read each other's minds!\n",
            "• **Faster Processing**: Quantum SVM can process large datasets exponentially faster than traditional algorithms. Think of it like having a super-speedy playlist generator that can create the perfect mix for your friends in no time!\n",
            "\n",
            "**Conclusion:**\n",
            "\n",
            "Quantum SVM is an incredible innovation that's revolutionizing the field of machine learning. By combining the power of Quantum computing with the effectiveness of SVM, we can solve complex problems faster and more accurately than ever before. So, the next time you're planning a music festival or just looking for the perfect playlist, remember: Quantum SVM is the key to unlocking the ultimate mix!\n",
            "\n",
            "Stay curious, keep exploring, and remember: QuantumTutor is always here to help you on your Quantum journey!\n",
            "--------------------------------------------------------------------------------\n",
            "\n",
            "📥 Ask your quantum computing question (or type 'exit' to quit):\n"
          ]
        }
      ]
    }
  ]
}