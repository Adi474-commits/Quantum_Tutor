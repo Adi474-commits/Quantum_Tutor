{
  "nbformat": 4,
  "nbformat_minor": 0,
  "metadata": {
    "colab": {
      "provenance": [],
      "gpuType": "T4"
    },
    "kernelspec": {
      "name": "python3",
      "display_name": "Python 3"
    },
    "language_info": {
      "name": "python"
    },
    "accelerator": "GPU"
  },
  "cells": [
    {
      "cell_type": "code",
      "execution_count": null,
      "metadata": {
        "id": "sCk-iOVPFWiQ"
      },
      "outputs": [],
      "source": [
        "# Install required packages\n",
        "!pip install langchain langchain-community chromadb transformers torch sentence-transformers pypdf\n",
        "!pip install huggingface_hub\n",
        "\n",
        "# Mount Google Drive\n",
        "from google.colab import drive\n",
        "drive.mount('/content/drive')"
      ]
    },
    {
      "cell_type": "code",
      "source": [
        "# Import necessary libraries\n",
        "from langchain_community.document_loaders import PyPDFLoader\n",
        "from langchain.text_splitter import RecursiveCharacterTextSplitter\n",
        "from langchain_community.vectorstores import Chroma\n",
        "from transformers import AutoTokenizer, AutoModelForCausalLM, pipeline, AutoModel\n",
        "import torch\n",
        "from langchain.embeddings import HuggingFaceEmbeddings\n",
        "import os"
      ],
      "metadata": {
        "id": "n7nxATp8Gr0t"
      },
      "execution_count": null,
      "outputs": []
    },
    {
      "cell_type": "code",
      "source": [
        "# Data Ingestion from Google Drive\n",
        "def load_pdfs_from_drive(directory_path):\n",
        "    \"\"\"Load and split PDF documents from a specified Google Drive directory.\"\"\"\n",
        "    documents = []\n",
        "    for filename in os.listdir(directory_path):\n",
        "        if filename.endswith('.pdf'):\n",
        "            file_path = os.path.join(directory_path, filename)\n",
        "            loader = PyPDFLoader(file_path)\n",
        "            docs = loader.load()\n",
        "            documents.extend(docs)\n",
        "    return documents\n",
        "\n",
        "# Specify the Google Drive directory containing PDFs\n",
        "drive_pdf_directory = '/content/drive/MyDrive/pdfs'\n",
        "documents = load_pdfs_from_drive(drive_pdf_directory)\n",
        "\n",
        "# Split documents into chunks\n",
        "text_splitter = RecursiveCharacterTextSplitter(chunk_size=1000, chunk_overlap=200)\n",
        "split_documents = text_splitter.split_documents(documents)\n",
        "\n",
        "print(f\"Loaded and split {len(split_documents)} document chunks.\")"
      ],
      "metadata": {
        "colab": {
          "base_uri": "https://localhost:8080/"
        },
        "id": "jatjo8peGwex",
        "outputId": "fa13abfc-154d-40ba-8844-1ffcc84ba3be"
      },
      "execution_count": null,
      "outputs": [
        {
          "output_type": "stream",
          "name": "stdout",
          "text": [
            "Loaded and split 1122 document chunks.\n"
          ]
        }
      ]
    },
    {
      "cell_type": "code",
      "source": [],
      "metadata": {
        "id": "V1QE6-xnTBtE"
      },
      "execution_count": null,
      "outputs": []
    },
    {
      "cell_type": "code",
      "source": [
        "from transformers import AutoTokenizer, AutoModelForCausalLM, pipeline\n",
        "import torch\n",
        "\n",
        "# Model ID\n",
        "model_id = \"deepseek-ai/deepseek-llm-7b-chat\"\n",
        "\n",
        "# Initialize tokenizer and model\n",
        "tokenizer = AutoTokenizer.from_pretrained(model_id)\n",
        "model = AutoModelForCausalLM.from_pretrained(\n",
        "    model_id,\n",
        "    device_map=\"cuda\",  # Explicitly use T4 GPU\n",
        "    offload_folder=\"/content/drive/MyDrive/quantum_tutor_offload\",\n",
        "    torch_dtype=torch.float16,  # Half-precision for T4 GPU\n",
        "    low_cpu_mem_usage=True  # Minimize CPU memory usage\n",
        ")\n",
        "\n",
        "# Create generation pipeline\n",
        "deepseek_llm = pipeline(\n",
        "    \"text-generation\",\n",
        "    model=model,\n",
        "    tokenizer=tokenizer,\n",
        "    max_new_tokens=500,\n",
        "    temperature=0.7,\n",
        "    top_p=0.9\n",
        ")"
      ],
      "metadata": {
        "id": "fP0IhwjtH7U9"
      },
      "execution_count": null,
      "outputs": []
    },
    {
      "cell_type": "code",
      "source": [
        "from langchain_community.document_loaders import PyPDFLoader\n",
        "from langchain.text_splitter import RecursiveCharacterTextSplitter\n",
        "import os\n",
        "\n",
        "# Load PDFs from Google Drive\n",
        "def load_pdfs_from_drive(directory_path):\n",
        "    documents = []\n",
        "    for filename in os.listdir(directory_path):\n",
        "        if filename.endswith('.pdf'):\n",
        "            file_path = os.path.join(directory_path, filename)\n",
        "            loader = PyPDFLoader(file_path)\n",
        "            docs = loader.load()\n",
        "            documents.extend(docs)\n",
        "    return documents\n",
        "\n",
        "# Specify PDF directory\n",
        "drive_pdf_directory = '/content/drive/MyDrive/pdfs'\n",
        "documents = load_pdfs_from_drive(drive_pdf_directory)\n",
        "\n",
        "# Split documents into chunks\n",
        "text_splitter = RecursiveCharacterTextSplitter(chunk_size=1000, chunk_overlap=200)\n",
        "split_documents = text_splitter.split_documents(documents)\n",
        "\n",
        "print(f\"Loaded and split {len(split_documents)} document chunks.\")"
      ],
      "metadata": {
        "colab": {
          "base_uri": "https://localhost:8080/"
        },
        "id": "alnwiiFDLyVX",
        "outputId": "652d1d1d-2c64-439d-a610-086791323234"
      },
      "execution_count": null,
      "outputs": [
        {
          "output_type": "stream",
          "name": "stdout",
          "text": [
            "Loaded and split 1122 document chunks.\n"
          ]
        }
      ]
    },
    {
      "cell_type": "code",
      "source": [
        "from langchain_community.vectorstores import Chroma\n",
        "from langchain.embeddings import HuggingFaceEmbeddings\n",
        "import os\n",
        "\n",
        "# Use IBM Granite Embedding\n",
        "granite_embedding = HuggingFaceEmbeddings(\n",
        "    model_name=\"ibm-granite/granite-embedding-125m-english\",  # Or use the 30m / multilingual variants\n",
        "    model_kwargs={\"device\": \"cuda\"},\n",
        "    encode_kwargs={\"batch_size\": 16}  # Adjust batch size based on GPU memory\n",
        ")\n",
        "\n",
        "# Create and persist ChromaDB vector store\n",
        "db = Chroma.from_documents(\n",
        "    documents=split_documents,\n",
        "    embedding=granite_embedding,\n",
        "    persist_directory=\"/content/drive/MyDrive/chroma_db\"\n",
        ")\n",
        "db.persist()\n",
        "print(\"Vector store created and persisted with Granite Embedding.\")\n"
      ],
      "metadata": {
        "colab": {
          "base_uri": "https://localhost:8080/"
        },
        "id": "Kl3O7yW1TDLW",
        "outputId": "ece17e08-99ed-473f-b3b3-88d9e5b9c90d"
      },
      "execution_count": null,
      "outputs": [
        {
          "output_type": "stream",
          "name": "stdout",
          "text": [
            "Vector store created and persisted with Granite Embedding.\n"
          ]
        }
      ]
    },
    {
      "cell_type": "code",
      "source": [
        "def rag_pipeline(query, db, llm, top_k=3, max_tokens=512):\n",
        "    import torch, gc\n",
        "\n",
        "    # Clear GPU memory before generation\n",
        "    gc.collect()\n",
        "    torch.cuda.empty_cache()\n",
        "\n",
        "    # Retrieve relevant documents\n",
        "    docs = db.similarity_search(query, k=top_k)\n",
        "    context = \"\\n\".join([doc.page_content[:500] for doc in docs])  # Truncate each doc\n",
        "\n",
        "    # Friendly, educational prompt\n",
        "    prompt = f\"\"\"You are an expert quantum computing tutor with a friendly and engaging teaching style, similar to how ChatGPT explains complex topics. Your goal is to provide a detailed, clear, and comprehensive answer to the query, making it easy to understand for someone learning the topic. Use analogies, comparisons to classical computing or everyday scenarios, and break down complex ideas into simple steps. If possible, include examples, potential applications, or implications. Structure your response with headings or bullet points for clarity. If the context doesn’t provide enough information, state so clearly and provide a general explanation based on quantum computing principles.\n",
        "\n",
        "Context:\n",
        "{context}\n",
        "\n",
        "Query: {query}\n",
        "\n",
        "Answer:\"\"\"\n",
        "\n",
        "    # Generate model output\n",
        "    response = llm(\n",
        "        prompt,\n",
        "        return_full_text=False,\n",
        "        max_new_tokens=max_tokens,\n",
        "        temperature=0.8,\n",
        "        top_p=0.8\n",
        "    )[0]['generated_text']\n",
        "\n",
        "    # Clear GPU memory after generation\n",
        "    gc.collect()\n",
        "    torch.cuda.empty_cache()\n",
        "\n",
        "    return response\n"
      ],
      "metadata": {
        "id": "t_TUzpgZTHLD"
      },
      "execution_count": null,
      "outputs": []
    },
    {
      "cell_type": "code",
      "source": [
        "# Test query\n",
        "query = \"What is quantum superposition, and how does it enable quantum parallelism?\"\n",
        "response = rag_pipeline(query, db, deepseek_llm, top_k=3, max_tokens=1024)\n",
        "print(f\"Query: {query}\\nResponse: {response}\")"
      ],
      "metadata": {
        "colab": {
          "base_uri": "https://localhost:8080/"
        },
        "id": "mAnFPl5OTcjT",
        "outputId": "78b52b4c-8841-4991-9e71-6f378191afb1"
      },
      "execution_count": null,
      "outputs": [
        {
          "output_type": "stream",
          "name": "stdout",
          "text": [
            "Query: What is quantum superposition, and how does it enable quantum parallelism?\n",
            "Response: \n",
            "\n",
            "1.1 Introduction to Quantum Superposition\n",
            "\n",
            "Quantum superposition is a fundamental principle in quantum mechanics that allows particles to be in multiple states at once. In classical computing, a bit (short for binary digit) can be either a 0 or a 1, but in quantum computing, a qubit (quantum bit) can be in both states simultaneously. This unique property enables quantum computing to perform multiple calculations in parallel, leading to the concept of quantum parallelism.\n",
            "\n",
            "1.2 Explanation of Quantum Superposition\n",
            "\n",
            "Quantum superposition is similar to the concept of Schr�dinger's cat, a famous thought experiment that demonstrates the idea of being in multiple states at once. In the experiment, a cat placed in a sealed box is both alive and dead until the box is opened and observed. Similarly, a qubit can be in a superposition of 0 and 1 until measured, at which point it will collapse into one of those states.\n",
            "\n",
            "1.3 Quantum Parallelism and Superposition\n",
            "\n",
            "Quantum parallelism is the ability to perform many computations simultaneously using quantum bits (qubits) in a superposition state. The more qubits a quantum computer has, the more states it can be in, leading to more calculations being performed in parallel.\n",
            "\n",
            "2.0 Example of Quantum Superposition and Parallelism\n",
            "\n",
            "Consider a classical computer with a single bit. It can perform four possible calculations in parallel: 00, 01, 10, and 11. Now, consider a quantum computer with two qubits. It can be in a superposition of four states: 00, 01, 10, and 11. However, the quantum computer can also be in a superposition of two states representing two qubits: 00 and 11. This superposition of two states allows the quantum computer to perform more calculations in parallel than the classical computer.\n",
            "\n",
            "2.1 Real-World Applications of Quantum Superposition\n",
            "\n",
            "Quantum superposition has many potential applications in various fields, such as quantum computing, cryptography, and quantum simulations. By exploiting the principles of quantum superposition, quantum computers can perform complex calculations much faster than classical computers. This could lead to breakthroughs in fields like drug discovery, climate modeling, and artificial intelligence.\n",
            "\n",
            "2.2 Implications of Quantum Superposition\n",
            "\n",
            "Quantum superposition has far-reaching implications for our understanding of the universe. By studying the behavior of quantum systems, scientists can gain insights into the nature of reality and the fundamental principles of the universe. Moreover, as quantum computing becomes more advanced, it may lead to new technologies and discoveries that could revolutionize various industries and fields of study.\n"
          ]
        }
      ]
    },
    {
      "cell_type": "code",
      "source": [
        "# Test query\n",
        "query = \"What problem does Grover’s algorithm solve more efficiently than classical methods?\"\n",
        "response = rag_pipeline(query, db, deepseek_llm)\n",
        "print(f\"Query: {query}\\nResponse: {response}\")"
      ],
      "metadata": {
        "colab": {
          "base_uri": "https://localhost:8080/"
        },
        "id": "G4v3TBu_TlpY",
        "outputId": "3bdc867c-f32b-4df8-bb45-61751abac960"
      },
      "execution_count": null,
      "outputs": [
        {
          "output_type": "stream",
          "name": "stdout",
          "text": [
            "Query: What problem does Grover’s algorithm solve more efficiently than classical methods?\n",
            "Response: \n",
            "Grover’s algorithm is designed to solve a problem more efficiently than classical methods: searching an unordered database of N items.\n",
            "\n",
            "Let's break down the problem:\n",
            "\n",
            "1. Classical search algorithms:\n",
            "Classical search algorithms, such as binary search or linear search, take O(N) steps to find an item in an ordered database. However, when dealing with an unordered database, these algorithms can become less efficient.\n",
            "\n",
            "2. Grover’s algorithm:\n",
            "Grover’s algorithm operates on a quantum computer, which allows it to take advantage of the property of superposition and the phenomenon of entanglement. By applying a quantum oracle (Uf in the case of Exercise 7.25) to the initial state of the database, Grover's algorithm modifies the state of the database such that the item of interest is amplified.\n",
            "\n",
            "3. Efficiency:\n",
            "Grover’s algorithm can find the item of interest in O(1/√N) steps, which is much faster than classical methods. This means that as the size of the database increases, Grover's algorithm becomes more efficient than classical methods.\n",
            "\n",
            "4. Limitations:\n",
            "Grover's algorithm assumes that the oracle (Uf) is available and can perform the search operation. If the oracle is not available or cannot perform the search operation, Grover's algorithm will not be able to find the item of interest.\n",
            "\n",
            "In summary, Grover's algorithm is more efficient than classical methods in searching an unordered database of N items, as it can find the item of interest in O(1/√N) steps, making it more scalable with the size of the database.\n"
          ]
        }
      ]
    },
    {
      "cell_type": "code",
      "source": [
        "# Test query\n",
        "query = \"How does the Bell inequality test the completeness of quantum mechanics?\"\n",
        "response = rag_pipeline(query, db, deepseek_llm)\n",
        "print(f\"Query: {query}\\nResponse: {response}\")"
      ],
      "metadata": {
        "colab": {
          "base_uri": "https://localhost:8080/"
        },
        "id": "B0G317boUY3f",
        "outputId": "486c4797-fcbb-43b6-e75f-bb850924ef8e"
      },
      "execution_count": null,
      "outputs": [
        {
          "output_type": "stream",
          "name": "stdout",
          "text": [
            "Query: How does the Bell inequality test the completeness of quantum mechanics?\n",
            "Response: \n",
            "\n",
            "The Bell inequality test is a way to check if quantum mechanics is complete or if it requires additional hidden variables to explain certain phenomena, such as quantum entanglement. The test is based on a specific Bell inequality proposed by Clauser and Horne, which is designed to detect any local hidden variable theory that can reproduce the predictions of quantum mechanics.\n",
            "\n",
            "Step 1: Understanding the EPR Paradox and Hidden Variables\n",
            "\n",
            "The EPR paradox, proposed by Einstein, Podolsky, and Rosen (EPR), involves two entangled particles that are separated by a large distance. According to quantum mechanics, the properties of these particles are correlated, even when they are not directly interacting. This correlation is known as quantum entanglement.\n",
            "\n",
            "However, some physicists believe that this correlation might be due to some hidden variables that are not accounted for by quantum mechanics. These hidden variables would provide a local explanation for the correlation between the entangled particles, meaning that the correlation could be explained without any direct interaction between the particles.\n",
            "\n",
            "Step 2: The Bell Inequality and its Purpose\n",
            "\n",
            "The Bell inequality is a mathematical expression that bounds the correlation between the properties of two entangled particles. If a local hidden variable theory exists that can explain the correlation, it should be able to produce results that are within the bounds of the Bell inequality.\n",
            "\n",
            "The purpose of the Bell inequality is to test whether quantum mechanics is complete, meaning that it can fully describe the behavior of entangled particles without the need for additional hidden variables. If quantum mechanics is complete, it should be able to reproduce the correlations predicted by the Bell inequality.\n",
            "\n",
            "Step 3: The Results of the Bell Test\n",
            "\n",
            "When the Bell test is performed, the results are compared to the predictions of the Bell inequality. If the results agree with the inequality, it means that quantum mechanics is able to fully describe the behavior of the entangled particles, and no additional hidden variables are needed.\n",
            "\n",
            "However, if the results disagree with the inequality, it suggests that quantum mechanics is not complete, and that additional hidden variables are needed to explain the correlation between the entangled particles. This would be a strong indication that quantum mechanics is not the final theory of nature and that there might be a deeper, more complete theory that incorporates these hidden variables.\n",
            "\n",
            "In conclusion, the Bell inequality test is a way to check if quantum mechanics is complete or if it requires additional hidden variables to explain certain phenomena, such as quantum entanglement. By comparing the results of the Bell test to the predictions of the Bell inequality,\n"
          ]
        }
      ]
    },
    {
      "cell_type": "code",
      "source": [
        "# Test query\n",
        "query = \"What is quantum superposition, and how does it enable quantum parallelism?\"\n",
        "response = rag_pipeline(query, db, deepseek_llm)\n",
        "print(f\"Query: {query}\\nResponse: {response}\")"
      ],
      "metadata": {
        "colab": {
          "base_uri": "https://localhost:8080/"
        },
        "id": "BrEmTKRbtX3T",
        "outputId": "37da3b5a-ee31-43f3-ad9d-9c98ecb0994c"
      },
      "execution_count": null,
      "outputs": [
        {
          "output_type": "stream",
          "name": "stdout",
          "text": [
            "Query: What is quantum superposition, and how does it enable quantum parallelism?\n",
            "Response: \n",
            "\n",
            "Quantum Superposition:\n",
            "\n",
            "Quantum superposition is a fundamental principle in quantum mechanics that allows particles to exist in multiple states at once. It is similar to the concept of being in multiple places simultaneously. This property is unique to quantum systems and differentiates them from classical systems, where particles can only be in one state at a time.\n",
            "\n",
            "In classical computing, information is represented by bits, which can either be in a state of 0 or 1. However, in quantum computing, the fundamental unit of information is a qubit (quantum bit), which can exist in both states simultaneously. This is made possible by the superposition principle, which allows a qubit to be in a state of 00, 01, 10, or 11 at the same time.\n",
            "\n",
            "How Quantum Superposition Enables Quantum Parallelism:\n",
            "\n",
            "Quantum parallelism is the ability to perform many computations simultaneously, making quantum computers more powerful and efficient than classical computers. This is achieved through the principle of superposition, which allows a quantum computer to process multiple inputs simultaneously.\n",
            "\n",
            "Let's take an example of a quantum computer with three qubits:\n",
            "\n",
            "1. If we input a superposition of states (for example, 000, 001, 010, 011, 100, and 101), we can process all these states at the same time.\n",
            "\n",
            "2. Each qubit can represent two states, so three qubits can represent 2^3 or 8 possible states simultaneously.\n",
            "\n",
            "3. In a classical computer, processing these eight states would require eight separate computations.\n",
            "\n",
            "4. However, with a quantum computer, we can process all eight states simultaneously using the principle of superposition.\n",
            "\n",
            "5. This allows quantum computers to perform multiple computations in parallel, making them much more powerful and efficient than classical computers.\n",
            "\n",
            "In summary, quantum superposition is a unique property of quantum systems that allows particles to exist in multiple states simultaneously. This property is used to create quantum states and enables quantum parallelism in quantum computers. By processing multiple inputs simultaneously, quantum computers can perform many computations in parallel, making them more powerful and efficient than classical computers.\n"
          ]
        }
      ]
    },
    {
      "cell_type": "markdown",
      "source": [
        "43+25+40+34 = 35.5 seconds on average\n"
      ],
      "metadata": {
        "id": "MUAGgrSEg0Ya"
      }
    }
  ]
}